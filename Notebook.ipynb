{
 "cells": [
  {
   "cell_type": "markdown",
   "id": "b2b28171",
   "metadata": {},
   "source": [
    "# Import Package"
   ]
  },
  {
   "cell_type": "code",
   "execution_count": 2,
   "id": "2d6a5e8d",
   "metadata": {},
   "outputs": [],
   "source": [
    "import numpy as np # linear algebra\n",
    "import pandas as pd \n",
    "import matplotlib.pyplot as plt\n",
    "from sklearn.metrics import matthews_corrcoef\n",
    "from imblearn.metrics import geometric_mean_score\n",
    "from sklearn.metrics import cohen_kappa_score"
   ]
  },
  {
   "cell_type": "markdown",
   "id": "4d83bf9a",
   "metadata": {},
   "source": [
    "# Data Exploration"
   ]
  },
  {
   "cell_type": "code",
   "execution_count": 3,
   "id": "2444ec7d",
   "metadata": {},
   "outputs": [],
   "source": [
    "df = pd.read_csv('archive/jm1.csv')"
   ]
  },
  {
   "cell_type": "markdown",
   "id": "3768077f",
   "metadata": {},
   "source": [
    "# Data Processing"
   ]
  },
  {
   "cell_type": "code",
   "execution_count": 4,
   "id": "ff292c3b",
   "metadata": {},
   "outputs": [
    {
     "name": "stdout",
     "output_type": "stream",
     "text": [
      "<class 'pandas.core.frame.DataFrame'>\n",
      "RangeIndex: 10885 entries, 0 to 10884\n",
      "Data columns (total 22 columns):\n",
      " #   Column             Non-Null Count  Dtype  \n",
      "---  ------             --------------  -----  \n",
      " 0   loc                10885 non-null  float64\n",
      " 1   v(g)               10885 non-null  float64\n",
      " 2   ev(g)              10885 non-null  float64\n",
      " 3   iv(g)              10885 non-null  float64\n",
      " 4   n                  10885 non-null  float64\n",
      " 5   v                  10885 non-null  float64\n",
      " 6   l                  10885 non-null  float64\n",
      " 7   d                  10885 non-null  float64\n",
      " 8   i                  10885 non-null  float64\n",
      " 9   e                  10885 non-null  float64\n",
      " 10  b                  10885 non-null  float64\n",
      " 11  t                  10885 non-null  float64\n",
      " 12  lOCode             10885 non-null  int64  \n",
      " 13  lOComment          10885 non-null  int64  \n",
      " 14  lOBlank            10885 non-null  int64  \n",
      " 15  locCodeAndComment  10885 non-null  int64  \n",
      " 16  uniq_Op            10885 non-null  object \n",
      " 17  uniq_Opnd          10885 non-null  object \n",
      " 18  total_Op           10885 non-null  object \n",
      " 19  total_Opnd         10885 non-null  object \n",
      " 20  branchCount        10885 non-null  object \n",
      " 21  defects            10885 non-null  bool   \n",
      "dtypes: bool(1), float64(12), int64(4), object(5)\n",
      "memory usage: 1.8+ MB\n"
     ]
    }
   ],
   "source": [
    "df.info()"
   ]
  },
  {
   "cell_type": "code",
   "execution_count": 5,
   "id": "0af13fe0",
   "metadata": {},
   "outputs": [
    {
     "data": {
      "text/html": [
       "<div>\n",
       "<style scoped>\n",
       "    .dataframe tbody tr th:only-of-type {\n",
       "        vertical-align: middle;\n",
       "    }\n",
       "\n",
       "    .dataframe tbody tr th {\n",
       "        vertical-align: top;\n",
       "    }\n",
       "\n",
       "    .dataframe thead th {\n",
       "        text-align: right;\n",
       "    }\n",
       "</style>\n",
       "<table border=\"1\" class=\"dataframe\">\n",
       "  <thead>\n",
       "    <tr style=\"text-align: right;\">\n",
       "      <th></th>\n",
       "      <th>loc</th>\n",
       "      <th>v(g)</th>\n",
       "      <th>ev(g)</th>\n",
       "      <th>iv(g)</th>\n",
       "      <th>n</th>\n",
       "      <th>v</th>\n",
       "      <th>l</th>\n",
       "      <th>d</th>\n",
       "      <th>i</th>\n",
       "      <th>e</th>\n",
       "      <th>...</th>\n",
       "      <th>lOCode</th>\n",
       "      <th>lOComment</th>\n",
       "      <th>lOBlank</th>\n",
       "      <th>locCodeAndComment</th>\n",
       "      <th>uniq_Op</th>\n",
       "      <th>uniq_Opnd</th>\n",
       "      <th>total_Op</th>\n",
       "      <th>total_Opnd</th>\n",
       "      <th>branchCount</th>\n",
       "      <th>defects</th>\n",
       "    </tr>\n",
       "  </thead>\n",
       "  <tbody>\n",
       "    <tr>\n",
       "      <th>0</th>\n",
       "      <td>1.1</td>\n",
       "      <td>1.4</td>\n",
       "      <td>1.4</td>\n",
       "      <td>1.4</td>\n",
       "      <td>1.3</td>\n",
       "      <td>1.30</td>\n",
       "      <td>1.30</td>\n",
       "      <td>1.30</td>\n",
       "      <td>1.30</td>\n",
       "      <td>1.30</td>\n",
       "      <td>...</td>\n",
       "      <td>2</td>\n",
       "      <td>2</td>\n",
       "      <td>2</td>\n",
       "      <td>2</td>\n",
       "      <td>1.2</td>\n",
       "      <td>1.2</td>\n",
       "      <td>1.2</td>\n",
       "      <td>1.2</td>\n",
       "      <td>1.4</td>\n",
       "      <td>False</td>\n",
       "    </tr>\n",
       "    <tr>\n",
       "      <th>1</th>\n",
       "      <td>1.0</td>\n",
       "      <td>1.0</td>\n",
       "      <td>1.0</td>\n",
       "      <td>1.0</td>\n",
       "      <td>1.0</td>\n",
       "      <td>1.00</td>\n",
       "      <td>1.00</td>\n",
       "      <td>1.00</td>\n",
       "      <td>1.00</td>\n",
       "      <td>1.00</td>\n",
       "      <td>...</td>\n",
       "      <td>1</td>\n",
       "      <td>1</td>\n",
       "      <td>1</td>\n",
       "      <td>1</td>\n",
       "      <td>1</td>\n",
       "      <td>1</td>\n",
       "      <td>1</td>\n",
       "      <td>1</td>\n",
       "      <td>1</td>\n",
       "      <td>True</td>\n",
       "    </tr>\n",
       "    <tr>\n",
       "      <th>2</th>\n",
       "      <td>72.0</td>\n",
       "      <td>7.0</td>\n",
       "      <td>1.0</td>\n",
       "      <td>6.0</td>\n",
       "      <td>198.0</td>\n",
       "      <td>1134.13</td>\n",
       "      <td>0.05</td>\n",
       "      <td>20.31</td>\n",
       "      <td>55.85</td>\n",
       "      <td>23029.10</td>\n",
       "      <td>...</td>\n",
       "      <td>51</td>\n",
       "      <td>10</td>\n",
       "      <td>8</td>\n",
       "      <td>1</td>\n",
       "      <td>17</td>\n",
       "      <td>36</td>\n",
       "      <td>112</td>\n",
       "      <td>86</td>\n",
       "      <td>13</td>\n",
       "      <td>True</td>\n",
       "    </tr>\n",
       "    <tr>\n",
       "      <th>3</th>\n",
       "      <td>190.0</td>\n",
       "      <td>3.0</td>\n",
       "      <td>1.0</td>\n",
       "      <td>3.0</td>\n",
       "      <td>600.0</td>\n",
       "      <td>4348.76</td>\n",
       "      <td>0.06</td>\n",
       "      <td>17.06</td>\n",
       "      <td>254.87</td>\n",
       "      <td>74202.67</td>\n",
       "      <td>...</td>\n",
       "      <td>129</td>\n",
       "      <td>29</td>\n",
       "      <td>28</td>\n",
       "      <td>2</td>\n",
       "      <td>17</td>\n",
       "      <td>135</td>\n",
       "      <td>329</td>\n",
       "      <td>271</td>\n",
       "      <td>5</td>\n",
       "      <td>True</td>\n",
       "    </tr>\n",
       "    <tr>\n",
       "      <th>4</th>\n",
       "      <td>37.0</td>\n",
       "      <td>4.0</td>\n",
       "      <td>1.0</td>\n",
       "      <td>4.0</td>\n",
       "      <td>126.0</td>\n",
       "      <td>599.12</td>\n",
       "      <td>0.06</td>\n",
       "      <td>17.19</td>\n",
       "      <td>34.86</td>\n",
       "      <td>10297.30</td>\n",
       "      <td>...</td>\n",
       "      <td>28</td>\n",
       "      <td>1</td>\n",
       "      <td>6</td>\n",
       "      <td>0</td>\n",
       "      <td>11</td>\n",
       "      <td>16</td>\n",
       "      <td>76</td>\n",
       "      <td>50</td>\n",
       "      <td>7</td>\n",
       "      <td>True</td>\n",
       "    </tr>\n",
       "  </tbody>\n",
       "</table>\n",
       "<p>5 rows × 22 columns</p>\n",
       "</div>"
      ],
      "text/plain": [
       "     loc  v(g)  ev(g)  iv(g)      n        v     l      d       i         e  \\\n",
       "0    1.1   1.4    1.4    1.4    1.3     1.30  1.30   1.30    1.30      1.30   \n",
       "1    1.0   1.0    1.0    1.0    1.0     1.00  1.00   1.00    1.00      1.00   \n",
       "2   72.0   7.0    1.0    6.0  198.0  1134.13  0.05  20.31   55.85  23029.10   \n",
       "3  190.0   3.0    1.0    3.0  600.0  4348.76  0.06  17.06  254.87  74202.67   \n",
       "4   37.0   4.0    1.0    4.0  126.0   599.12  0.06  17.19   34.86  10297.30   \n",
       "\n",
       "   ...  lOCode  lOComment  lOBlank  locCodeAndComment  uniq_Op  uniq_Opnd  \\\n",
       "0  ...       2          2        2                  2      1.2        1.2   \n",
       "1  ...       1          1        1                  1        1          1   \n",
       "2  ...      51         10        8                  1       17         36   \n",
       "3  ...     129         29       28                  2       17        135   \n",
       "4  ...      28          1        6                  0       11         16   \n",
       "\n",
       "  total_Op total_Opnd branchCount defects  \n",
       "0      1.2        1.2         1.4   False  \n",
       "1        1          1           1    True  \n",
       "2      112         86          13    True  \n",
       "3      329        271           5    True  \n",
       "4       76         50           7    True  \n",
       "\n",
       "[5 rows x 22 columns]"
      ]
     },
     "execution_count": 5,
     "metadata": {},
     "output_type": "execute_result"
    }
   ],
   "source": [
    "df.head()"
   ]
  },
  {
   "cell_type": "code",
   "execution_count": 6,
   "id": "3bf1be3b",
   "metadata": {},
   "outputs": [],
   "source": [
    "##something is wrong, those last five that start with uniq_Op are objects - \n",
    "df['uniq_Op'] = pd.to_numeric(df['uniq_Op'], errors='coerce') ## convert to number, make NaNs from ?s \n",
    "df['uniq_Opnd'] = pd.to_numeric(df['uniq_Opnd'], errors='coerce') ## convert to number, make NaNs from ?s \n",
    "df['total_Op'] = pd.to_numeric(df['total_Op'], errors='coerce') ## convert to number, make NaNs from ?s \n",
    "df['total_Opnd'] = pd.to_numeric(df['total_Opnd'], errors='coerce') ## convert to number, make NaNs from ?s \n",
    "df['branchCount'] = pd.to_numeric(df['branchCount'], errors='coerce') ## convert to number, make NaNs from ?s \n",
    "df['defects'] = df['defects'].astype(int)\n",
    "\n",
    "df = df.dropna()\n",
    "df = df.reset_index(drop=True)"
   ]
  },
  {
   "cell_type": "markdown",
   "id": "fee48be8",
   "metadata": {},
   "source": [
    "# Data Visualization"
   ]
  },
  {
   "cell_type": "code",
   "execution_count": 7,
   "id": "ce7c83fb",
   "metadata": {},
   "outputs": [
    {
     "data": {
      "text/plain": [
       "<AxesSubplot:xlabel='defects', ylabel='count'>"
      ]
     },
     "execution_count": 7,
     "metadata": {},
     "output_type": "execute_result"
    },
    {
     "data": {
      "image/png": "[encoded data removed]",
      "text/plain": [
       "<Figure size 432x288 with 1 Axes>"
      ]
     },
     "metadata": {
      "needs_background": "light"
     },
     "output_type": "display_data"
    }
   ],
   "source": [
    "import seaborn as sns\n",
    "sns.countplot(x=\"defects\", data = df)"
   ]
  },
  {
   "cell_type": "markdown",
   "id": "ec78817a",
   "metadata": {},
   "source": [
    "# Feature Selection"
   ]
  },
  {
   "cell_type": "code",
   "execution_count": 8,
   "id": "8c2de350",
   "metadata": {},
   "outputs": [],
   "source": [
    "from sklearn import model_selection\n",
    "\n",
    "# Split-out validation dataset\n",
    "X = df.iloc[:, 0:21]\n",
    "y = df.iloc[:,21]"
   ]
  },
  {
   "cell_type": "markdown",
   "id": "d4c5b8a9",
   "metadata": {},
   "source": [
    "# SMOTE Oversampling"
   ]
  },
  {
   "cell_type": "code",
   "execution_count": 9,
   "id": "406c1998",
   "metadata": {},
   "outputs": [],
   "source": [
    "from imblearn.over_sampling import RandomOverSampler\n",
    "ros = RandomOverSampler(random_state=0)\n",
    "ros.fit(X, y)\n",
    "X_resampled, y_resampled = ros.fit_resample(X, y)"
   ]
  },
  {
   "cell_type": "markdown",
   "id": "67284baa",
   "metadata": {},
   "source": [
    "# KMFOS Sampling"
   ]
  },
  {
   "cell_type": "code",
   "execution_count": 10,
   "id": "68e7464e",
   "metadata": {},
   "outputs": [],
   "source": [
    "from imblearn.under_sampling import RandomUnderSampler\n",
    "rus = RandomUnderSampler(random_state=0)\n",
    "rus.fit(X, y)\n",
    "X_resampled, y_resampled = rus.fit_resample(X, y)"
   ]
  },
  {
   "cell_type": "code",
   "execution_count": 11,
   "id": "c2374cc5",
   "metadata": {},
   "outputs": [
    {
     "data": {
      "text/html": [
       "<div>\n",
       "<style scoped>\n",
       "    .dataframe tbody tr th:only-of-type {\n",
       "        vertical-align: middle;\n",
       "    }\n",
       "\n",
       "    .dataframe tbody tr th {\n",
       "        vertical-align: top;\n",
       "    }\n",
       "\n",
       "    .dataframe thead th {\n",
       "        text-align: right;\n",
       "    }\n",
       "</style>\n",
       "<table border=\"1\" class=\"dataframe\">\n",
       "  <thead>\n",
       "    <tr style=\"text-align: right;\">\n",
       "      <th></th>\n",
       "      <th>loc</th>\n",
       "      <th>v(g)</th>\n",
       "      <th>ev(g)</th>\n",
       "      <th>iv(g)</th>\n",
       "      <th>n</th>\n",
       "      <th>v</th>\n",
       "      <th>l</th>\n",
       "      <th>d</th>\n",
       "      <th>i</th>\n",
       "      <th>e</th>\n",
       "      <th>...</th>\n",
       "      <th>t</th>\n",
       "      <th>lOCode</th>\n",
       "      <th>lOComment</th>\n",
       "      <th>lOBlank</th>\n",
       "      <th>locCodeAndComment</th>\n",
       "      <th>uniq_Op</th>\n",
       "      <th>uniq_Opnd</th>\n",
       "      <th>total_Op</th>\n",
       "      <th>total_Opnd</th>\n",
       "      <th>branchCount</th>\n",
       "    </tr>\n",
       "  </thead>\n",
       "  <tbody>\n",
       "    <tr>\n",
       "      <th>0</th>\n",
       "      <td>15.0</td>\n",
       "      <td>1.0</td>\n",
       "      <td>1.0</td>\n",
       "      <td>1.0</td>\n",
       "      <td>20.0</td>\n",
       "      <td>78.14</td>\n",
       "      <td>0.33</td>\n",
       "      <td>3.00</td>\n",
       "      <td>26.05</td>\n",
       "      <td>234.41</td>\n",
       "      <td>...</td>\n",
       "      <td>13.02</td>\n",
       "      <td>5</td>\n",
       "      <td>5</td>\n",
       "      <td>3</td>\n",
       "      <td>0</td>\n",
       "      <td>6.0</td>\n",
       "      <td>9.0</td>\n",
       "      <td>11.0</td>\n",
       "      <td>9.0</td>\n",
       "      <td>1.0</td>\n",
       "    </tr>\n",
       "    <tr>\n",
       "      <th>1</th>\n",
       "      <td>4.0</td>\n",
       "      <td>1.0</td>\n",
       "      <td>1.0</td>\n",
       "      <td>1.0</td>\n",
       "      <td>6.0</td>\n",
       "      <td>15.51</td>\n",
       "      <td>0.50</td>\n",
       "      <td>2.00</td>\n",
       "      <td>7.75</td>\n",
       "      <td>31.02</td>\n",
       "      <td>...</td>\n",
       "      <td>1.72</td>\n",
       "      <td>2</td>\n",
       "      <td>0</td>\n",
       "      <td>0</td>\n",
       "      <td>0</td>\n",
       "      <td>4.0</td>\n",
       "      <td>2.0</td>\n",
       "      <td>4.0</td>\n",
       "      <td>2.0</td>\n",
       "      <td>1.0</td>\n",
       "    </tr>\n",
       "    <tr>\n",
       "      <th>2</th>\n",
       "      <td>8.0</td>\n",
       "      <td>1.0</td>\n",
       "      <td>1.0</td>\n",
       "      <td>1.0</td>\n",
       "      <td>0.0</td>\n",
       "      <td>0.00</td>\n",
       "      <td>0.00</td>\n",
       "      <td>0.00</td>\n",
       "      <td>0.00</td>\n",
       "      <td>0.00</td>\n",
       "      <td>...</td>\n",
       "      <td>0.00</td>\n",
       "      <td>0</td>\n",
       "      <td>0</td>\n",
       "      <td>0</td>\n",
       "      <td>0</td>\n",
       "      <td>0.0</td>\n",
       "      <td>0.0</td>\n",
       "      <td>0.0</td>\n",
       "      <td>0.0</td>\n",
       "      <td>1.0</td>\n",
       "    </tr>\n",
       "    <tr>\n",
       "      <th>3</th>\n",
       "      <td>10.0</td>\n",
       "      <td>2.0</td>\n",
       "      <td>1.0</td>\n",
       "      <td>2.0</td>\n",
       "      <td>29.0</td>\n",
       "      <td>120.93</td>\n",
       "      <td>0.14</td>\n",
       "      <td>7.00</td>\n",
       "      <td>17.28</td>\n",
       "      <td>846.49</td>\n",
       "      <td>...</td>\n",
       "      <td>47.03</td>\n",
       "      <td>7</td>\n",
       "      <td>0</td>\n",
       "      <td>1</td>\n",
       "      <td>0</td>\n",
       "      <td>9.0</td>\n",
       "      <td>9.0</td>\n",
       "      <td>15.0</td>\n",
       "      <td>14.0</td>\n",
       "      <td>3.0</td>\n",
       "    </tr>\n",
       "    <tr>\n",
       "      <th>4</th>\n",
       "      <td>4.0</td>\n",
       "      <td>1.0</td>\n",
       "      <td>1.0</td>\n",
       "      <td>1.0</td>\n",
       "      <td>12.0</td>\n",
       "      <td>41.51</td>\n",
       "      <td>0.29</td>\n",
       "      <td>3.50</td>\n",
       "      <td>11.86</td>\n",
       "      <td>145.30</td>\n",
       "      <td>...</td>\n",
       "      <td>8.07</td>\n",
       "      <td>2</td>\n",
       "      <td>0</td>\n",
       "      <td>0</td>\n",
       "      <td>0</td>\n",
       "      <td>7.0</td>\n",
       "      <td>4.0</td>\n",
       "      <td>8.0</td>\n",
       "      <td>4.0</td>\n",
       "      <td>1.0</td>\n",
       "    </tr>\n",
       "    <tr>\n",
       "      <th>...</th>\n",
       "      <td>...</td>\n",
       "      <td>...</td>\n",
       "      <td>...</td>\n",
       "      <td>...</td>\n",
       "      <td>...</td>\n",
       "      <td>...</td>\n",
       "      <td>...</td>\n",
       "      <td>...</td>\n",
       "      <td>...</td>\n",
       "      <td>...</td>\n",
       "      <td>...</td>\n",
       "      <td>...</td>\n",
       "      <td>...</td>\n",
       "      <td>...</td>\n",
       "      <td>...</td>\n",
       "      <td>...</td>\n",
       "      <td>...</td>\n",
       "      <td>...</td>\n",
       "      <td>...</td>\n",
       "      <td>...</td>\n",
       "      <td>...</td>\n",
       "    </tr>\n",
       "    <tr>\n",
       "      <th>4201</th>\n",
       "      <td>1824.0</td>\n",
       "      <td>268.0</td>\n",
       "      <td>39.0</td>\n",
       "      <td>219.0</td>\n",
       "      <td>4828.0</td>\n",
       "      <td>43342.31</td>\n",
       "      <td>0.00</td>\n",
       "      <td>213.53</td>\n",
       "      <td>202.98</td>\n",
       "      <td>9254819.86</td>\n",
       "      <td>...</td>\n",
       "      <td>514156.64</td>\n",
       "      <td>1588</td>\n",
       "      <td>58</td>\n",
       "      <td>164</td>\n",
       "      <td>10</td>\n",
       "      <td>102.0</td>\n",
       "      <td>407.0</td>\n",
       "      <td>3172.0</td>\n",
       "      <td>1730.0</td>\n",
       "      <td>485.0</td>\n",
       "    </tr>\n",
       "    <tr>\n",
       "      <th>4202</th>\n",
       "      <td>1532.0</td>\n",
       "      <td>263.0</td>\n",
       "      <td>140.0</td>\n",
       "      <td>256.0</td>\n",
       "      <td>4308.0</td>\n",
       "      <td>35928.07</td>\n",
       "      <td>0.00</td>\n",
       "      <td>337.36</td>\n",
       "      <td>106.50</td>\n",
       "      <td>12120796.16</td>\n",
       "      <td>...</td>\n",
       "      <td>673377.60</td>\n",
       "      <td>1339</td>\n",
       "      <td>75</td>\n",
       "      <td>101</td>\n",
       "      <td>11</td>\n",
       "      <td>98.0</td>\n",
       "      <td>226.0</td>\n",
       "      <td>2752.0</td>\n",
       "      <td>1556.0</td>\n",
       "      <td>464.0</td>\n",
       "    </tr>\n",
       "    <tr>\n",
       "      <th>4203</th>\n",
       "      <td>844.0</td>\n",
       "      <td>404.0</td>\n",
       "      <td>1.0</td>\n",
       "      <td>2.0</td>\n",
       "      <td>2033.0</td>\n",
       "      <td>20848.47</td>\n",
       "      <td>0.00</td>\n",
       "      <td>206.01</td>\n",
       "      <td>101.20</td>\n",
       "      <td>4294926.45</td>\n",
       "      <td>...</td>\n",
       "      <td>238607.05</td>\n",
       "      <td>814</td>\n",
       "      <td>17</td>\n",
       "      <td>11</td>\n",
       "      <td>0</td>\n",
       "      <td>411.0</td>\n",
       "      <td>811.0</td>\n",
       "      <td>1220.0</td>\n",
       "      <td>813.0</td>\n",
       "      <td>405.0</td>\n",
       "    </tr>\n",
       "    <tr>\n",
       "      <th>4204</th>\n",
       "      <td>1129.0</td>\n",
       "      <td>128.0</td>\n",
       "      <td>14.0</td>\n",
       "      <td>104.0</td>\n",
       "      <td>0.0</td>\n",
       "      <td>0.00</td>\n",
       "      <td>0.00</td>\n",
       "      <td>0.00</td>\n",
       "      <td>0.00</td>\n",
       "      <td>0.00</td>\n",
       "      <td>...</td>\n",
       "      <td>0.00</td>\n",
       "      <td>0</td>\n",
       "      <td>0</td>\n",
       "      <td>0</td>\n",
       "      <td>0</td>\n",
       "      <td>0.0</td>\n",
       "      <td>0.0</td>\n",
       "      <td>0.0</td>\n",
       "      <td>0.0</td>\n",
       "      <td>211.0</td>\n",
       "    </tr>\n",
       "    <tr>\n",
       "      <th>4205</th>\n",
       "      <td>3442.0</td>\n",
       "      <td>470.0</td>\n",
       "      <td>113.0</td>\n",
       "      <td>385.0</td>\n",
       "      <td>8441.0</td>\n",
       "      <td>80843.08</td>\n",
       "      <td>0.00</td>\n",
       "      <td>384.45</td>\n",
       "      <td>210.28</td>\n",
       "      <td>31079782.27</td>\n",
       "      <td>...</td>\n",
       "      <td>1726654.57</td>\n",
       "      <td>2824</td>\n",
       "      <td>157</td>\n",
       "      <td>447</td>\n",
       "      <td>12</td>\n",
       "      <td>155.0</td>\n",
       "      <td>609.0</td>\n",
       "      <td>5420.0</td>\n",
       "      <td>3021.0</td>\n",
       "      <td>826.0</td>\n",
       "    </tr>\n",
       "  </tbody>\n",
       "</table>\n",
       "<p>4206 rows × 21 columns</p>\n",
       "</div>"
      ],
      "text/plain": [
       "         loc   v(g)  ev(g)  iv(g)       n         v     l       d       i  \\\n",
       "0       15.0    1.0    1.0    1.0    20.0     78.14  0.33    3.00   26.05   \n",
       "1        4.0    1.0    1.0    1.0     6.0     15.51  0.50    2.00    7.75   \n",
       "2        8.0    1.0    1.0    1.0     0.0      0.00  0.00    0.00    0.00   \n",
       "3       10.0    2.0    1.0    2.0    29.0    120.93  0.14    7.00   17.28   \n",
       "4        4.0    1.0    1.0    1.0    12.0     41.51  0.29    3.50   11.86   \n",
       "...      ...    ...    ...    ...     ...       ...   ...     ...     ...   \n",
       "4201  1824.0  268.0   39.0  219.0  4828.0  43342.31  0.00  213.53  202.98   \n",
       "4202  1532.0  263.0  140.0  256.0  4308.0  35928.07  0.00  337.36  106.50   \n",
       "4203   844.0  404.0    1.0    2.0  2033.0  20848.47  0.00  206.01  101.20   \n",
       "4204  1129.0  128.0   14.0  104.0     0.0      0.00  0.00    0.00    0.00   \n",
       "4205  3442.0  470.0  113.0  385.0  8441.0  80843.08  0.00  384.45  210.28   \n",
       "\n",
       "                e  ...           t  lOCode  lOComment  lOBlank  \\\n",
       "0          234.41  ...       13.02       5          5        3   \n",
       "1           31.02  ...        1.72       2          0        0   \n",
       "2            0.00  ...        0.00       0          0        0   \n",
       "3          846.49  ...       47.03       7          0        1   \n",
       "4          145.30  ...        8.07       2          0        0   \n",
       "...           ...  ...         ...     ...        ...      ...   \n",
       "4201   9254819.86  ...   514156.64    1588         58      164   \n",
       "4202  12120796.16  ...   673377.60    1339         75      101   \n",
       "4203   4294926.45  ...   238607.05     814         17       11   \n",
       "4204         0.00  ...        0.00       0          0        0   \n",
       "4205  31079782.27  ...  1726654.57    2824        157      447   \n",
       "\n",
       "      locCodeAndComment  uniq_Op  uniq_Opnd  total_Op  total_Opnd  branchCount  \n",
       "0                     0      6.0        9.0      11.0         9.0          1.0  \n",
       "1                     0      4.0        2.0       4.0         2.0          1.0  \n",
       "2                     0      0.0        0.0       0.0         0.0          1.0  \n",
       "3                     0      9.0        9.0      15.0        14.0          3.0  \n",
       "4                     0      7.0        4.0       8.0         4.0          1.0  \n",
       "...                 ...      ...        ...       ...         ...          ...  \n",
       "4201                 10    102.0      407.0    3172.0      1730.0        485.0  \n",
       "4202                 11     98.0      226.0    2752.0      1556.0        464.0  \n",
       "4203                  0    411.0      811.0    1220.0       813.0        405.0  \n",
       "4204                  0      0.0        0.0       0.0         0.0        211.0  \n",
       "4205                 12    155.0      609.0    5420.0      3021.0        826.0  \n",
       "\n",
       "[4206 rows x 21 columns]"
      ]
     },
     "execution_count": 11,
     "metadata": {},
     "output_type": "execute_result"
    }
   ],
   "source": [
    "X_resampled"
   ]
  },
  {
   "cell_type": "code",
   "execution_count": 12,
   "id": "67228173",
   "metadata": {},
   "outputs": [
    {
     "data": {
      "text/plain": [
       "0       0\n",
       "1       0\n",
       "2       0\n",
       "3       0\n",
       "4       0\n",
       "       ..\n",
       "4201    1\n",
       "4202    1\n",
       "4203    1\n",
       "4204    1\n",
       "4205    1\n",
       "Name: defects, Length: 4206, dtype: int32"
      ]
     },
     "execution_count": 12,
     "metadata": {},
     "output_type": "execute_result"
    }
   ],
   "source": [
    "y_resampled"
   ]
  },
  {
   "cell_type": "markdown",
   "id": "d52c25e7",
   "metadata": {},
   "source": [
    "# Splitting Data"
   ]
  },
  {
   "cell_type": "code",
   "execution_count": 13,
   "id": "8a1b1681",
   "metadata": {},
   "outputs": [],
   "source": [
    "X_train, X_valid, Y_train, Y_valid = model_selection.train_test_split(X_resampled, y_resampled, test_size=0.2, random_state=7)"
   ]
  },
  {
   "cell_type": "markdown",
   "id": "d417ec5a",
   "metadata": {},
   "source": [
    "# Machine Learning"
   ]
  },
  {
   "cell_type": "markdown",
   "id": "ecac89c6",
   "metadata": {},
   "source": [
    "# Logistic Regression"
   ]
  },
  {
   "cell_type": "code",
   "execution_count": 14,
   "id": "763286c7",
   "metadata": {},
   "outputs": [],
   "source": [
    "from sklearn.metrics import accuracy_score,classification_report,confusion_matrix\n",
    "from sklearn.metrics import plot_confusion_matrix\n",
    "from sklearn.metrics import recall_score"
   ]
  },
  {
   "cell_type": "code",
   "execution_count": 15,
   "id": "5762c5cb",
   "metadata": {},
   "outputs": [],
   "source": [
    "from sklearn.linear_model import LogisticRegression\n",
    "model = LogisticRegression()\n",
    "model.fit(X_resampled, y_resampled)\n",
    "predictions = model.predict(X_resampled)"
   ]
  },
  {
   "cell_type": "code",
   "execution_count": 16,
   "id": "e997b1e1",
   "metadata": {},
   "outputs": [
    {
     "name": "stdout",
     "output_type": "stream",
     "text": [
      "*Classification Matrix for LR: \n",
      "              precision    recall  f1-score   support\n",
      "\n",
      "           0       0.63      0.67      0.65      2103\n",
      "           1       0.65      0.61      0.63      2103\n",
      "\n",
      "    accuracy                           0.64      4206\n",
      "   macro avg       0.64      0.64      0.64      4206\n",
      "weighted avg       0.64      0.64      0.64      4206\n",
      "\n"
     ]
    }
   ],
   "source": [
    "print(\"*Classification Matrix for LR: \")\n",
    "print(classification_report(y_resampled, predictions))"
   ]
  },
  {
   "cell_type": "code",
   "execution_count": 17,
   "id": "801de330",
   "metadata": {},
   "outputs": [
    {
     "name": "stderr",
     "output_type": "stream",
     "text": [
      "C:\\Users\\Public\\Documents\\anaconda\\lib\\site-packages\\sklearn\\utils\\deprecation.py:87: FutureWarning: Function plot_confusion_matrix is deprecated; Function `plot_confusion_matrix` is deprecated in 1.0 and will be removed in 1.2. Use one of the class methods: ConfusionMatrixDisplay.from_predictions or ConfusionMatrixDisplay.from_estimator.\n",
      "  warnings.warn(msg, category=FutureWarning)\n"
     ]
    },
    {
     "data": {
      "image/png": "[encoded data removed]",
      "text/plain": [
       "<Figure size 432x288 with 2 Axes>"
      ]
     },
     "metadata": {
      "needs_background": "light"
     },
     "output_type": "display_data"
    }
   ],
   "source": [
    "plot_confusion_matrix(model, X_resampled, y_resampled)  \n",
    "plt.show()"
   ]
  },
  {
   "cell_type": "code",
   "execution_count": 18,
   "id": "a68a2ff0",
   "metadata": {},
   "outputs": [],
   "source": [
    "acc_lr = accuracy_score(y_resampled, predictions) *100\n",
    "rec_lr = recall_score(y_resampled, predictions, average='weighted')"
   ]
  },
  {
   "cell_type": "code",
   "execution_count": 19,
   "id": "a01aa6a8",
   "metadata": {},
   "outputs": [
    {
     "name": "stdout",
     "output_type": "stream",
     "text": [
      "0.2804600056662167\n"
     ]
    }
   ],
   "source": [
    "print(matthews_corrcoef(y_resampled, predictions))"
   ]
  },
  {
   "cell_type": "code",
   "execution_count": 20,
   "id": "2bd32dc9",
   "metadata": {},
   "outputs": [
    {
     "name": "stdout",
     "output_type": "stream",
     "text": [
      "0.6395034858295875\n"
     ]
    }
   ],
   "source": [
    "print(geometric_mean_score(y_resampled, predictions))"
   ]
  },
  {
   "cell_type": "code",
   "execution_count": 21,
   "id": "0895fb22",
   "metadata": {},
   "outputs": [
    {
     "name": "stdout",
     "output_type": "stream",
     "text": [
      "0.280076081787922\n"
     ]
    }
   ],
   "source": [
    "print(cohen_kappa_score(y_resampled, predictions))"
   ]
  },
  {
   "cell_type": "markdown",
   "id": "89f98fa7",
   "metadata": {},
   "source": [
    "# Support Vector Machine"
   ]
  },
  {
   "cell_type": "code",
   "execution_count": 22,
   "id": "4e7b66ac",
   "metadata": {},
   "outputs": [
    {
     "name": "stdout",
     "output_type": "stream",
     "text": [
      "*Classification Matrix for SVM: \n",
      "              precision    recall  f1-score   support\n",
      "\n",
      "           0       0.95      0.98      0.96      2103\n",
      "           1       0.98      0.95      0.96      2103\n",
      "\n",
      "    accuracy                           0.96      4206\n",
      "   macro avg       0.96      0.96      0.96      4206\n",
      "weighted avg       0.96      0.96      0.96      4206\n",
      "\n"
     ]
    },
    {
     "name": "stderr",
     "output_type": "stream",
     "text": [
      "C:\\Users\\Public\\Documents\\anaconda\\lib\\site-packages\\sklearn\\utils\\deprecation.py:87: FutureWarning: Function plot_confusion_matrix is deprecated; Function `plot_confusion_matrix` is deprecated in 1.0 and will be removed in 1.2. Use one of the class methods: ConfusionMatrixDisplay.from_predictions or ConfusionMatrixDisplay.from_estimator.\n",
      "  warnings.warn(msg, category=FutureWarning)\n"
     ]
    },
    {
     "data": {
      "image/png": "[encoded data removed]",
      "text/plain": [
       "<Figure size 432x288 with 2 Axes>"
      ]
     },
     "metadata": {
      "needs_background": "light"
     },
     "output_type": "display_data"
    }
   ],
   "source": [
    "from sklearn.svm import SVC\n",
    "model = SVC(gamma='auto')\n",
    "model.fit(X_resampled, y_resampled)\n",
    "predictions = model.predict(X_resampled)\n",
    "acc_svc = accuracy_score(y_resampled, predictions) *100\n",
    "rec_svc = recall_score(y_resampled, predictions, average='weighted')\n",
    "print(\"*Classification Matrix for SVM: \")\n",
    "print(classification_report(y_resampled, predictions))\n",
    "\n",
    "plot_confusion_matrix(model, X_resampled, y_resampled)  \n",
    "plt.show()"
   ]
  },
  {
   "cell_type": "code",
   "execution_count": 23,
   "id": "3c418825",
   "metadata": {},
   "outputs": [
    {
     "name": "stdout",
     "output_type": "stream",
     "text": [
      "0.9233948899396407\n"
     ]
    }
   ],
   "source": [
    "print(matthews_corrcoef(y_resampled, predictions))"
   ]
  },
  {
   "cell_type": "code",
   "execution_count": 24,
   "id": "c90f29d6",
   "metadata": {},
   "outputs": [
    {
     "name": "stdout",
     "output_type": "stream",
     "text": [
      "0.9613631809339204\n"
     ]
    }
   ],
   "source": [
    "print(geometric_mean_score(y_resampled, predictions))"
   ]
  },
  {
   "cell_type": "code",
   "execution_count": 25,
   "id": "d5086369",
   "metadata": {},
   "outputs": [
    {
     "name": "stdout",
     "output_type": "stream",
     "text": [
      "0.9229671897289586\n"
     ]
    }
   ],
   "source": [
    "print(cohen_kappa_score(y_resampled, predictions))"
   ]
  },
  {
   "cell_type": "markdown",
   "id": "9f237904",
   "metadata": {},
   "source": [
    "# Naive Bayes"
   ]
  },
  {
   "cell_type": "code",
   "execution_count": 26,
   "id": "8d849f96",
   "metadata": {},
   "outputs": [
    {
     "name": "stdout",
     "output_type": "stream",
     "text": [
      "*Classification Matrix for NB: \n",
      "              precision    recall  f1-score   support\n",
      "\n",
      "           0       0.53      0.96      0.69      2103\n",
      "           1       0.81      0.16      0.26      2103\n",
      "\n",
      "    accuracy                           0.56      4206\n",
      "   macro avg       0.67      0.56      0.47      4206\n",
      "weighted avg       0.67      0.56      0.47      4206\n",
      "\n"
     ]
    },
    {
     "name": "stderr",
     "output_type": "stream",
     "text": [
      "C:\\Users\\Public\\Documents\\anaconda\\lib\\site-packages\\sklearn\\utils\\deprecation.py:87: FutureWarning: Function plot_confusion_matrix is deprecated; Function `plot_confusion_matrix` is deprecated in 1.0 and will be removed in 1.2. Use one of the class methods: ConfusionMatrixDisplay.from_predictions or ConfusionMatrixDisplay.from_estimator.\n",
      "  warnings.warn(msg, category=FutureWarning)\n"
     ]
    },
    {
     "data": {
      "image/png": "[encoded data removed]",
      "text/plain": [
       "<Figure size 432x288 with 2 Axes>"
      ]
     },
     "metadata": {
      "needs_background": "light"
     },
     "output_type": "display_data"
    }
   ],
   "source": [
    "from sklearn.naive_bayes import GaussianNB\n",
    "model = GaussianNB()\n",
    "model.fit(X_resampled, y_resampled)\n",
    "predictions = model.predict(X_resampled)\n",
    "acc_nb = accuracy_score(y_resampled, predictions) *100\n",
    "rec_nb = recall_score(y_resampled, predictions, average='weighted')\n",
    "print(\"*Classification Matrix for NB: \")\n",
    "print(classification_report(y_resampled, predictions))\n",
    "\n",
    "plot_confusion_matrix(model, X_resampled, y_resampled)  \n",
    "plt.show()"
   ]
  },
  {
   "cell_type": "code",
   "execution_count": 27,
   "id": "07bda2ed",
   "metadata": {},
   "outputs": [
    {
     "name": "stdout",
     "output_type": "stream",
     "text": [
      "0.20097725972273012\n"
     ]
    }
   ],
   "source": [
    "print(matthews_corrcoef(y_resampled, predictions))"
   ]
  },
  {
   "cell_type": "code",
   "execution_count": 28,
   "id": "21f72dc6",
   "metadata": {},
   "outputs": [
    {
     "name": "stdout",
     "output_type": "stream",
     "text": [
      "0.38911024496718705\n"
     ]
    }
   ],
   "source": [
    "print(geometric_mean_score(y_resampled, predictions))"
   ]
  },
  {
   "cell_type": "code",
   "execution_count": 29,
   "id": "1454e243",
   "metadata": {},
   "outputs": [
    {
     "name": "stdout",
     "output_type": "stream",
     "text": [
      "0.11935330480266282\n"
     ]
    }
   ],
   "source": [
    "print(cohen_kappa_score(y_resampled, predictions))"
   ]
  },
  {
   "cell_type": "markdown",
   "id": "083308ad",
   "metadata": {},
   "source": [
    "# Random Forest"
   ]
  },
  {
   "cell_type": "code",
   "execution_count": 30,
   "id": "7558a754",
   "metadata": {},
   "outputs": [
    {
     "name": "stdout",
     "output_type": "stream",
     "text": [
      "*Classification Matrix for RF: \n",
      "              precision    recall  f1-score   support\n",
      "\n",
      "           0       0.64      0.72      0.68      2103\n",
      "           1       0.68      0.60      0.64      2103\n",
      "\n",
      "    accuracy                           0.66      4206\n",
      "   macro avg       0.66      0.66      0.66      4206\n",
      "weighted avg       0.66      0.66      0.66      4206\n",
      "\n"
     ]
    },
    {
     "name": "stderr",
     "output_type": "stream",
     "text": [
      "C:\\Users\\Public\\Documents\\anaconda\\lib\\site-packages\\sklearn\\utils\\deprecation.py:87: FutureWarning: Function plot_confusion_matrix is deprecated; Function `plot_confusion_matrix` is deprecated in 1.0 and will be removed in 1.2. Use one of the class methods: ConfusionMatrixDisplay.from_predictions or ConfusionMatrixDisplay.from_estimator.\n",
      "  warnings.warn(msg, category=FutureWarning)\n"
     ]
    },
    {
     "data": {
      "image/png": "[encoded data removed]",
      "text/plain": [
       "<Figure size 432x288 with 2 Axes>"
      ]
     },
     "metadata": {
      "needs_background": "light"
     },
     "output_type": "display_data"
    }
   ],
   "source": [
    "from sklearn.ensemble import RandomForestClassifier\n",
    "model = RandomForestClassifier(max_depth=2, random_state=0)\n",
    "model.fit(X_resampled, y_resampled)\n",
    "predictions = model.predict(X_resampled)\n",
    "acc_rf = accuracy_score(y_resampled, predictions) *100\n",
    "rec_rf = recall_score(y_resampled, predictions, average='weighted')\n",
    "print(\"*Classification Matrix for RF: \")\n",
    "print(classification_report(y_resampled, predictions))\n",
    "\n",
    "plot_confusion_matrix(model, X_resampled, y_resampled)  \n",
    "plt.show()"
   ]
  },
  {
   "cell_type": "code",
   "execution_count": 31,
   "id": "b2575dad",
   "metadata": {},
   "outputs": [
    {
     "name": "stdout",
     "output_type": "stream",
     "text": [
      "0.31904456106021256\n"
     ]
    }
   ],
   "source": [
    "print(matthews_corrcoef(y_resampled, predictions))"
   ]
  },
  {
   "cell_type": "code",
   "execution_count": 32,
   "id": "f83ea096",
   "metadata": {},
   "outputs": [
    {
     "name": "stdout",
     "output_type": "stream",
     "text": [
      "0.655547645267901\n"
     ]
    }
   ],
   "source": [
    "print(geometric_mean_score(y_resampled, predictions))"
   ]
  },
  {
   "cell_type": "code",
   "execution_count": 33,
   "id": "3d2859ab",
   "metadata": {},
   "outputs": [
    {
     "name": "stdout",
     "output_type": "stream",
     "text": [
      "0.31669044222539233\n"
     ]
    }
   ],
   "source": [
    "print(cohen_kappa_score(y_resampled, predictions))"
   ]
  },
  {
   "cell_type": "markdown",
   "id": "d7442762",
   "metadata": {},
   "source": [
    "# OS-ELM"
   ]
  },
  {
   "cell_type": "code",
   "execution_count": 34,
   "id": "97fa25f1",
   "metadata": {},
   "outputs": [],
   "source": [
    "from pyoselm import OSELMClassifier"
   ]
  },
  {
   "cell_type": "code",
   "execution_count": 35,
   "id": "c8ffac6d",
   "metadata": {},
   "outputs": [
    {
     "name": "stdout",
     "output_type": "stream",
     "text": [
      "*Classification Matrix for OSELM: \n",
      "              precision    recall  f1-score   support\n",
      "\n",
      "           0       0.62      0.62      0.62      2103\n",
      "           1       0.62      0.62      0.62      2103\n",
      "\n",
      "    accuracy                           0.62      4206\n",
      "   macro avg       0.62      0.62      0.62      4206\n",
      "weighted avg       0.62      0.62      0.62      4206\n",
      "\n"
     ]
    },
    {
     "name": "stderr",
     "output_type": "stream",
     "text": [
      "C:\\Users\\Public\\Documents\\anaconda\\lib\\site-packages\\pyoselm\\layer.py:218: RuntimeWarning: overflow encountered in exp\n",
      "  _sigmoid = lambda x: 1.0/(1.0 + np.exp(-x))\n",
      "C:\\Users\\Public\\Documents\\anaconda\\lib\\site-packages\\pyoselm\\layer.py:218: RuntimeWarning: overflow encountered in exp\n",
      "  _sigmoid = lambda x: 1.0/(1.0 + np.exp(-x))\n"
     ]
    }
   ],
   "source": [
    "model = OSELMClassifier(n_hidden=20, activation_func='sigmoid', random_state=123)\n",
    "model.fit(X_resampled, y_resampled)\n",
    "predictions = model.predict(X_resampled)\n",
    "acc_elm = accuracy_score(y_resampled, predictions) *100\n",
    "rec_elm = recall_score(y_resampled, predictions, average='weighted')\n",
    "print(\"*Classification Matrix for OSELM: \")\n",
    "print(classification_report(y_resampled, predictions))"
   ]
  },
  {
   "cell_type": "code",
   "execution_count": 36,
   "id": "625c1bb2",
   "metadata": {},
   "outputs": [
    {
     "name": "stdout",
     "output_type": "stream",
     "text": [
      "0.2415610148356448\n"
     ]
    }
   ],
   "source": [
    "print(matthews_corrcoef(y_resampled, predictions))"
   ]
  },
  {
   "cell_type": "code",
   "execution_count": 37,
   "id": "d7a3224c",
   "metadata": {},
   "outputs": [
    {
     "name": "stdout",
     "output_type": "stream",
     "text": [
      "0.6207776073716411\n"
     ]
    }
   ],
   "source": [
    "print(geometric_mean_score(y_resampled, predictions))"
   ]
  },
  {
   "cell_type": "code",
   "execution_count": 38,
   "id": "f2333840",
   "metadata": {},
   "outputs": [
    {
     "name": "stdout",
     "output_type": "stream",
     "text": [
      "0.2415596766524013\n"
     ]
    }
   ],
   "source": [
    "print(cohen_kappa_score(y_resampled, predictions))"
   ]
  },
  {
   "cell_type": "code",
   "execution_count": 39,
   "id": "bd6623b7",
   "metadata": {},
   "outputs": [],
   "source": [
    "#plot_confusion_matrix(model, X_resampled, y_resampled)  \n",
    "#plt.show()"
   ]
  },
  {
   "cell_type": "markdown",
   "id": "22bca225",
   "metadata": {},
   "source": [
    "# XGBoost"
   ]
  },
  {
   "cell_type": "code",
   "execution_count": 40,
   "id": "0aa99fd6",
   "metadata": {},
   "outputs": [],
   "source": [
    "from xgboost import XGBClassifier"
   ]
  },
  {
   "cell_type": "code",
   "execution_count": 41,
   "id": "c48074f9",
   "metadata": {},
   "outputs": [
    {
     "name": "stderr",
     "output_type": "stream",
     "text": [
      "C:\\Users\\Public\\Documents\\anaconda\\lib\\site-packages\\xgboost\\sklearn.py:1146: UserWarning: The use of label encoder in XGBClassifier is deprecated and will be removed in a future release. To remove this warning, do the following: 1) Pass option use_label_encoder=False when constructing XGBClassifier object; and 2) Encode your labels (y) as integers starting with 0, i.e. 0, 1, 2, ..., [num_class - 1].\n",
      "  warnings.warn(label_encoder_deprecation_msg, UserWarning)\n"
     ]
    },
    {
     "name": "stdout",
     "output_type": "stream",
     "text": [
      "[10:58:07] WARNING: C:/Users/Administrator/workspace/xgboost-win64_release_1.4.0/src/learner.cc:1095: Starting in XGBoost 1.3.0, the default evaluation metric used with the objective 'binary:logistic' was changed from 'error' to 'logloss'. Explicitly set eval_metric if you'd like to restore the old behavior.\n",
      "*Classification Matrix for XGB: \n",
      "              precision    recall  f1-score   support\n",
      "\n",
      "           0       0.92      0.97      0.94      2103\n",
      "           1       0.96      0.92      0.94      2103\n",
      "\n",
      "    accuracy                           0.94      4206\n",
      "   macro avg       0.94      0.94      0.94      4206\n",
      "weighted avg       0.94      0.94      0.94      4206\n",
      "\n"
     ]
    }
   ],
   "source": [
    "model = XGBClassifier(n_estimators=100)\n",
    "model.fit(X_resampled, y_resampled)\n",
    "predictions = model.predict(X_resampled)\n",
    "acc_xgb = accuracy_score(y_resampled, predictions) *100\n",
    "rec_xgb = recall_score(y_resampled, predictions, average='weighted')\n",
    "print(\"*Classification Matrix for XGB: \")\n",
    "print(classification_report(y_resampled, predictions))"
   ]
  },
  {
   "cell_type": "code",
   "execution_count": 42,
   "id": "80336eae",
   "metadata": {},
   "outputs": [
    {
     "name": "stderr",
     "output_type": "stream",
     "text": [
      "C:\\Users\\Public\\Documents\\anaconda\\lib\\site-packages\\sklearn\\utils\\deprecation.py:87: FutureWarning: Function plot_confusion_matrix is deprecated; Function `plot_confusion_matrix` is deprecated in 1.0 and will be removed in 1.2. Use one of the class methods: ConfusionMatrixDisplay.from_predictions or ConfusionMatrixDisplay.from_estimator.\n",
      "  warnings.warn(msg, category=FutureWarning)\n"
     ]
    },
    {
     "data": {
      "image/png": "[encoded data removed]",
      "text/plain": [
       "<Figure size 432x288 with 2 Axes>"
      ]
     },
     "metadata": {
      "needs_background": "light"
     },
     "output_type": "display_data"
    }
   ],
   "source": [
    "plot_confusion_matrix(model, X_resampled, y_resampled)  \n",
    "plt.show()"
   ]
  },
  {
   "cell_type": "code",
   "execution_count": 43,
   "id": "5c6d00fe",
   "metadata": {},
   "outputs": [
    {
     "name": "stdout",
     "output_type": "stream",
     "text": [
      "0.8845613466940981\n"
     ]
    }
   ],
   "source": [
    "print(matthews_corrcoef(y_resampled, predictions))"
   ]
  },
  {
   "cell_type": "code",
   "execution_count": 44,
   "id": "8e3aa34d",
   "metadata": {},
   "outputs": [
    {
     "name": "stdout",
     "output_type": "stream",
     "text": [
      "0.9414314292713716\n"
     ]
    }
   ],
   "source": [
    "print(geometric_mean_score(y_resampled, predictions))"
   ]
  },
  {
   "cell_type": "code",
   "execution_count": 45,
   "id": "37949ff6",
   "metadata": {},
   "outputs": [
    {
     "name": "stdout",
     "output_type": "stream",
     "text": [
      "0.8834997622444127\n"
     ]
    }
   ],
   "source": [
    "print(cohen_kappa_score(y_resampled, predictions))"
   ]
  },
  {
   "cell_type": "markdown",
   "id": "8c6f5e5c",
   "metadata": {},
   "source": [
    "# Bagging Classifier"
   ]
  },
  {
   "cell_type": "code",
   "execution_count": 46,
   "id": "22d116b1",
   "metadata": {},
   "outputs": [
    {
     "name": "stdout",
     "output_type": "stream",
     "text": [
      "*Classification Matrix for Bagging: \n",
      "              precision    recall  f1-score   support\n",
      "\n",
      "           0       0.54      0.94      0.68      2103\n",
      "           1       0.76      0.20      0.31      2103\n",
      "\n",
      "    accuracy                           0.57      4206\n",
      "   macro avg       0.65      0.57      0.50      4206\n",
      "weighted avg       0.65      0.57      0.50      4206\n",
      "\n"
     ]
    },
    {
     "name": "stderr",
     "output_type": "stream",
     "text": [
      "C:\\Users\\Public\\Documents\\anaconda\\lib\\site-packages\\sklearn\\utils\\deprecation.py:87: FutureWarning: Function plot_confusion_matrix is deprecated; Function `plot_confusion_matrix` is deprecated in 1.0 and will be removed in 1.2. Use one of the class methods: ConfusionMatrixDisplay.from_predictions or ConfusionMatrixDisplay.from_estimator.\n",
      "  warnings.warn(msg, category=FutureWarning)\n"
     ]
    },
    {
     "data": {
      "image/png": "[encoded data removed]",
      "text/plain": [
       "<Figure size 432x288 with 2 Axes>"
      ]
     },
     "metadata": {
      "needs_background": "light"
     },
     "output_type": "display_data"
    }
   ],
   "source": [
    "from sklearn.ensemble import BaggingClassifier\n",
    "model = BaggingClassifier(base_estimator=SVC(),n_estimators=10, random_state=0)\n",
    "model.fit(X_resampled, y_resampled)\n",
    "predictions = model.predict(X_resampled)\n",
    "acc_bc = accuracy_score(y_resampled, predictions) *100\n",
    "rec_bc = recall_score(y_resampled, predictions, average='weighted')\n",
    "print(\"*Classification Matrix for Bagging: \")\n",
    "print(classification_report(y_resampled, predictions))\n",
    "\n",
    "plot_confusion_matrix(model, X_resampled, y_resampled)  \n",
    "plt.show()"
   ]
  },
  {
   "cell_type": "code",
   "execution_count": 47,
   "id": "a84e580a",
   "metadata": {},
   "outputs": [
    {
     "name": "stdout",
     "output_type": "stream",
     "text": [
      "0.20145126186516416\n"
     ]
    }
   ],
   "source": [
    "print(matthews_corrcoef(y_resampled, predictions))"
   ]
  },
  {
   "cell_type": "code",
   "execution_count": 48,
   "id": "47609a2f",
   "metadata": {},
   "outputs": [
    {
     "name": "stdout",
     "output_type": "stream",
     "text": [
      "0.4306860924612544\n"
     ]
    }
   ],
   "source": [
    "print(geometric_mean_score(y_resampled, predictions))"
   ]
  },
  {
   "cell_type": "code",
   "execution_count": 49,
   "id": "8c1afb74",
   "metadata": {},
   "outputs": [
    {
     "name": "stdout",
     "output_type": "stream",
     "text": [
      "0.13552068473609125\n"
     ]
    }
   ],
   "source": [
    "print(cohen_kappa_score(y_resampled, predictions))"
   ]
  },
  {
   "cell_type": "markdown",
   "id": "4ef43568",
   "metadata": {},
   "source": [
    "# Boosting Classifier"
   ]
  },
  {
   "cell_type": "code",
   "execution_count": 50,
   "id": "d2c15f28",
   "metadata": {},
   "outputs": [
    {
     "name": "stdout",
     "output_type": "stream",
     "text": [
      "*Classification Matrix for Boosting: \n",
      "              precision    recall  f1-score   support\n",
      "\n",
      "           0       0.67      0.72      0.69      2103\n",
      "           1       0.70      0.64      0.66      2103\n",
      "\n",
      "    accuracy                           0.68      4206\n",
      "   macro avg       0.68      0.68      0.68      4206\n",
      "weighted avg       0.68      0.68      0.68      4206\n",
      "\n"
     ]
    },
    {
     "name": "stderr",
     "output_type": "stream",
     "text": [
      "C:\\Users\\Public\\Documents\\anaconda\\lib\\site-packages\\sklearn\\utils\\deprecation.py:87: FutureWarning: Function plot_confusion_matrix is deprecated; Function `plot_confusion_matrix` is deprecated in 1.0 and will be removed in 1.2. Use one of the class methods: ConfusionMatrixDisplay.from_predictions or ConfusionMatrixDisplay.from_estimator.\n",
      "  warnings.warn(msg, category=FutureWarning)\n"
     ]
    },
    {
     "data": {
      "image/png": "[encoded data removed]",
      "text/plain": [
       "<Figure size 432x288 with 2 Axes>"
      ]
     },
     "metadata": {
      "needs_background": "light"
     },
     "output_type": "display_data"
    }
   ],
   "source": [
    "from sklearn.ensemble import AdaBoostClassifier\n",
    "model = AdaBoostClassifier(n_estimators=100, random_state=0)\n",
    "model.fit(X_resampled, y_resampled)\n",
    "predictions = model.predict(X_resampled)\n",
    "acc_boost = accuracy_score(y_resampled, predictions) *100\n",
    "rec_boost = recall_score(y_resampled, predictions, average='weighted')\n",
    "print(\"*Classification Matrix for Boosting: \")\n",
    "print(classification_report(y_resampled, predictions))\n",
    "\n",
    "plot_confusion_matrix(model, X_resampled, y_resampled)  \n",
    "plt.show()"
   ]
  },
  {
   "cell_type": "code",
   "execution_count": 51,
   "id": "8124a0ff",
   "metadata": {},
   "outputs": [
    {
     "name": "stdout",
     "output_type": "stream",
     "text": [
      "0.6782876474713081\n"
     ]
    }
   ],
   "source": [
    "print(geometric_mean_score(y_resampled, predictions))"
   ]
  },
  {
   "cell_type": "code",
   "execution_count": 52,
   "id": "2be35ff1",
   "metadata": {},
   "outputs": [
    {
     "name": "stdout",
     "output_type": "stream",
     "text": [
      "0.36091613835561187\n"
     ]
    }
   ],
   "source": [
    "print(matthews_corrcoef(y_resampled, predictions))"
   ]
  },
  {
   "cell_type": "code",
   "execution_count": 53,
   "id": "efdbb2a4",
   "metadata": {},
   "outputs": [
    {
     "name": "stdout",
     "output_type": "stream",
     "text": [
      "0.3594864479315264\n"
     ]
    }
   ],
   "source": [
    "print(cohen_kappa_score(y_resampled, predictions))"
   ]
  },
  {
   "cell_type": "markdown",
   "id": "107115a4",
   "metadata": {},
   "source": [
    "# Gradient Boosting"
   ]
  },
  {
   "cell_type": "code",
   "execution_count": 54,
   "id": "eadfca5a",
   "metadata": {},
   "outputs": [
    {
     "name": "stdout",
     "output_type": "stream",
     "text": [
      "*Classification Matrix for Gradient Boosting: \n",
      "              precision    recall  f1-score   support\n",
      "\n",
      "           0       0.68      0.72      0.70      2103\n",
      "           1       0.70      0.67      0.68      2103\n",
      "\n",
      "    accuracy                           0.69      4206\n",
      "   macro avg       0.69      0.69      0.69      4206\n",
      "weighted avg       0.69      0.69      0.69      4206\n",
      "\n"
     ]
    },
    {
     "name": "stderr",
     "output_type": "stream",
     "text": [
      "C:\\Users\\Public\\Documents\\anaconda\\lib\\site-packages\\sklearn\\utils\\deprecation.py:87: FutureWarning: Function plot_confusion_matrix is deprecated; Function `plot_confusion_matrix` is deprecated in 1.0 and will be removed in 1.2. Use one of the class methods: ConfusionMatrixDisplay.from_predictions or ConfusionMatrixDisplay.from_estimator.\n",
      "  warnings.warn(msg, category=FutureWarning)\n"
     ]
    },
    {
     "data": {
      "image/png": "[encoded data removed]",
      "text/plain": [
       "<Figure size 432x288 with 2 Axes>"
      ]
     },
     "metadata": {
      "needs_background": "light"
     },
     "output_type": "display_data"
    }
   ],
   "source": [
    "from sklearn.ensemble import GradientBoostingClassifier\n",
    "model = GradientBoostingClassifier(n_estimators=100, learning_rate=1.0,max_depth=1, random_state=0)\n",
    "model.fit(X_resampled, y_resampled)\n",
    "predictions = model.predict(X_resampled)\n",
    "acc_gb = accuracy_score(y_resampled, predictions) *100\n",
    "rec_gb = recall_score(y_resampled, predictions, average='weighted')\n",
    "print(\"*Classification Matrix for Gradient Boosting: \")\n",
    "print(classification_report(y_resampled, predictions))\n",
    "\n",
    "plot_confusion_matrix(model, X_resampled, y_resampled)  \n",
    "plt.show()"
   ]
  },
  {
   "cell_type": "code",
   "execution_count": 55,
   "id": "fd0a0555",
   "metadata": {},
   "outputs": [
    {
     "name": "stdout",
     "output_type": "stream",
     "text": [
      "0.38714000408077764\n"
     ]
    }
   ],
   "source": [
    "print(matthews_corrcoef(y_resampled, predictions))"
   ]
  },
  {
   "cell_type": "code",
   "execution_count": 56,
   "id": "f66cc569",
   "metadata": {},
   "outputs": [
    {
     "name": "stdout",
     "output_type": "stream",
     "text": [
      "0.6927837171932175\n"
     ]
    }
   ],
   "source": [
    "print(geometric_mean_score(y_resampled, predictions))"
   ]
  },
  {
   "cell_type": "code",
   "execution_count": 57,
   "id": "23cab7b3",
   "metadata": {},
   "outputs": [
    {
     "name": "stdout",
     "output_type": "stream",
     "text": [
      "0.38659058487874465\n"
     ]
    }
   ],
   "source": [
    "print(cohen_kappa_score(y_resampled, predictions))"
   ]
  },
  {
   "cell_type": "markdown",
   "id": "83f20972",
   "metadata": {},
   "source": [
    "# Voting Classifier"
   ]
  },
  {
   "cell_type": "code",
   "execution_count": 58,
   "id": "735c7127",
   "metadata": {},
   "outputs": [
    {
     "name": "stdout",
     "output_type": "stream",
     "text": [
      "*Classification Matrix for Voting Classifier: \n",
      "              precision    recall  f1-score   support\n",
      "\n",
      "           0       0.97      0.99      0.98      2103\n",
      "           1       0.99      0.97      0.98      2103\n",
      "\n",
      "    accuracy                           0.98      4206\n",
      "   macro avg       0.98      0.98      0.98      4206\n",
      "weighted avg       0.98      0.98      0.98      4206\n",
      "\n"
     ]
    },
    {
     "name": "stderr",
     "output_type": "stream",
     "text": [
      "C:\\Users\\Public\\Documents\\anaconda\\lib\\site-packages\\sklearn\\utils\\deprecation.py:87: FutureWarning: Function plot_confusion_matrix is deprecated; Function `plot_confusion_matrix` is deprecated in 1.0 and will be removed in 1.2. Use one of the class methods: ConfusionMatrixDisplay.from_predictions or ConfusionMatrixDisplay.from_estimator.\n",
      "  warnings.warn(msg, category=FutureWarning)\n"
     ]
    },
    {
     "data": {
      "image/png": "[encoded data removed]",
      "text/plain": [
       "<Figure size 432x288 with 2 Axes>"
      ]
     },
     "metadata": {
      "needs_background": "light"
     },
     "output_type": "display_data"
    }
   ],
   "source": [
    "from sklearn.svm import SVC\n",
    "from sklearn.tree import DecisionTreeClassifier\n",
    "from sklearn.ensemble import RandomForestClassifier, VotingClassifier\n",
    "clf1 = SVC(gamma='auto')\n",
    "clf2 = RandomForestClassifier(n_estimators=50, random_state=1)\n",
    "clf3 = DecisionTreeClassifier()\n",
    "eclf1 = VotingClassifier(estimators=[('lr', clf1), ('rf', clf2), ('dt', clf3)], voting='hard')\n",
    "\n",
    "eclf1.fit(X_resampled, y_resampled)\n",
    "predictions = eclf1.predict(X_resampled)\n",
    "acc_vot = accuracy_score(y_resampled, predictions) *100\n",
    "rec_vot = recall_score(y_resampled, predictions, average='weighted')\n",
    "print(\"*Classification Matrix for Voting Classifier: \")\n",
    "print(classification_report(y_resampled, predictions))\n",
    "\n",
    "plot_confusion_matrix(model, X_resampled, y_resampled)  \n",
    "plt.show()"
   ]
  },
  {
   "cell_type": "code",
   "execution_count": 59,
   "id": "7a4b358d",
   "metadata": {},
   "outputs": [
    {
     "name": "stdout",
     "output_type": "stream",
     "text": [
      "0.9664599906476927\n"
     ]
    }
   ],
   "source": [
    "print(matthews_corrcoef(y_resampled, predictions))"
   ]
  },
  {
   "cell_type": "code",
   "execution_count": 60,
   "id": "a12109a8",
   "metadata": {},
   "outputs": [
    {
     "name": "stdout",
     "output_type": "stream",
     "text": [
      "0.9830611345236513\n"
     ]
    }
   ],
   "source": [
    "print(geometric_mean_score(y_resampled, predictions))"
   ]
  },
  {
   "cell_type": "code",
   "execution_count": 61,
   "id": "c34eb65a",
   "metadata": {},
   "outputs": [
    {
     "name": "stdout",
     "output_type": "stream",
     "text": [
      "0.9662387066096053\n"
     ]
    }
   ],
   "source": [
    "print(cohen_kappa_score(y_resampled, predictions))"
   ]
  },
  {
   "cell_type": "markdown",
   "id": "44112b83",
   "metadata": {},
   "source": [
    "# Stacking Classifier"
   ]
  },
  {
   "cell_type": "code",
   "execution_count": 62,
   "id": "dbefaefe",
   "metadata": {},
   "outputs": [
    {
     "name": "stderr",
     "output_type": "stream",
     "text": [
      "C:\\Users\\Public\\Documents\\anaconda\\lib\\site-packages\\xgboost\\sklearn.py:1146: UserWarning: The use of label encoder in XGBClassifier is deprecated and will be removed in a future release. To remove this warning, do the following: 1) Pass option use_label_encoder=False when constructing XGBClassifier object; and 2) Encode your labels (y) as integers starting with 0, i.e. 0, 1, 2, ..., [num_class - 1].\n",
      "  warnings.warn(label_encoder_deprecation_msg, UserWarning)\n"
     ]
    },
    {
     "name": "stdout",
     "output_type": "stream",
     "text": [
      "[11:00:39] WARNING: C:/Users/Administrator/workspace/xgboost-win64_release_1.4.0/src/learner.cc:1095: Starting in XGBoost 1.3.0, the default evaluation metric used with the objective 'binary:logistic' was changed from 'error' to 'logloss'. Explicitly set eval_metric if you'd like to restore the old behavior.\n"
     ]
    },
    {
     "name": "stderr",
     "output_type": "stream",
     "text": [
      "C:\\Users\\Public\\Documents\\anaconda\\lib\\site-packages\\xgboost\\sklearn.py:1146: UserWarning: The use of label encoder in XGBClassifier is deprecated and will be removed in a future release. To remove this warning, do the following: 1) Pass option use_label_encoder=False when constructing XGBClassifier object; and 2) Encode your labels (y) as integers starting with 0, i.e. 0, 1, 2, ..., [num_class - 1].\n",
      "  warnings.warn(label_encoder_deprecation_msg, UserWarning)\n"
     ]
    },
    {
     "name": "stdout",
     "output_type": "stream",
     "text": [
      "[11:00:52] WARNING: C:/Users/Administrator/workspace/xgboost-win64_release_1.4.0/src/learner.cc:1095: Starting in XGBoost 1.3.0, the default evaluation metric used with the objective 'binary:logistic' was changed from 'error' to 'logloss'. Explicitly set eval_metric if you'd like to restore the old behavior.\n",
      "[11:00:54] WARNING: C:/Users/Administrator/workspace/xgboost-win64_release_1.4.0/src/learner.cc:1095: Starting in XGBoost 1.3.0, the default evaluation metric used with the objective 'binary:logistic' was changed from 'error' to 'logloss'. Explicitly set eval_metric if you'd like to restore the old behavior.\n",
      "[11:00:55] WARNING: C:/Users/Administrator/workspace/xgboost-win64_release_1.4.0/src/learner.cc:1095: Starting in XGBoost 1.3.0, the default evaluation metric used with the objective 'binary:logistic' was changed from 'error' to 'logloss'. Explicitly set eval_metric if you'd like to restore the old behavior.\n",
      "[11:00:57] WARNING: C:/Users/Administrator/workspace/xgboost-win64_release_1.4.0/src/learner.cc:1095: Starting in XGBoost 1.3.0, the default evaluation metric used with the objective 'binary:logistic' was changed from 'error' to 'logloss'. Explicitly set eval_metric if you'd like to restore the old behavior.\n",
      "[11:00:59] WARNING: C:/Users/Administrator/workspace/xgboost-win64_release_1.4.0/src/learner.cc:1095: Starting in XGBoost 1.3.0, the default evaluation metric used with the objective 'binary:logistic' was changed from 'error' to 'logloss'. Explicitly set eval_metric if you'd like to restore the old behavior.\n",
      "*Classification Matrix for Stackiing Classifier: \n",
      "              precision    recall  f1-score   support\n",
      "\n",
      "           0       0.92      0.96      0.94      2103\n",
      "           1       0.96      0.92      0.94      2103\n",
      "\n",
      "    accuracy                           0.94      4206\n",
      "   macro avg       0.94      0.94      0.94      4206\n",
      "weighted avg       0.94      0.94      0.94      4206\n",
      "\n"
     ]
    },
    {
     "name": "stderr",
     "output_type": "stream",
     "text": [
      "C:\\Users\\Public\\Documents\\anaconda\\lib\\site-packages\\sklearn\\utils\\deprecation.py:87: FutureWarning: Function plot_confusion_matrix is deprecated; Function `plot_confusion_matrix` is deprecated in 1.0 and will be removed in 1.2. Use one of the class methods: ConfusionMatrixDisplay.from_predictions or ConfusionMatrixDisplay.from_estimator.\n",
      "  warnings.warn(msg, category=FutureWarning)\n"
     ]
    },
    {
     "data": {
      "image/png": "[encoded data removed]",
      "text/plain": [
       "<Figure size 432x288 with 2 Axes>"
      ]
     },
     "metadata": {
      "needs_background": "light"
     },
     "output_type": "display_data"
    }
   ],
   "source": [
    "from sklearn.ensemble import StackingClassifier\n",
    "from sklearn.ensemble import AdaBoostClassifier\n",
    "\n",
    "estimators = [('AdaBoost', AdaBoostClassifier(n_estimators=100, random_state=0)),\n",
    "              ('XGBBoost',XGBClassifier(n_estimators=100))]\n",
    "model = StackingClassifier(estimators=estimators, final_estimator=LogisticRegression())\n",
    "\n",
    "model.fit(X_resampled, y_resampled)\n",
    "predictions = model.predict(X_resampled)\n",
    "acc_stack = accuracy_score(y_resampled, predictions) *100\n",
    "rec_stack = recall_score(y_resampled, predictions, average='weighted')\n",
    "print(\"*Classification Matrix for Stackiing Classifier: \")\n",
    "print(classification_report(y_resampled, predictions))\n",
    "\n",
    "plot_confusion_matrix(model, X_resampled, y_resampled)  \n",
    "plt.show()"
   ]
  },
  {
   "cell_type": "code",
   "execution_count": 63,
   "id": "bb755b8f",
   "metadata": {},
   "outputs": [
    {
     "name": "stdout",
     "output_type": "stream",
     "text": [
      "0.8842920113592204\n"
     ]
    }
   ],
   "source": [
    "print(matthews_corrcoef(y_resampled, predictions))"
   ]
  },
  {
   "cell_type": "code",
   "execution_count": 64,
   "id": "4fd9c781",
   "metadata": {},
   "outputs": [
    {
     "name": "stdout",
     "output_type": "stream",
     "text": [
      "0.94151212553495\n"
     ]
    }
   ],
   "source": [
    "print(geometric_mean_score(y_resampled, predictions))"
   ]
  },
  {
   "cell_type": "code",
   "execution_count": 65,
   "id": "18dc7227",
   "metadata": {},
   "outputs": [
    {
     "name": "stdout",
     "output_type": "stream",
     "text": [
      "0.8834997622444127\n"
     ]
    }
   ],
   "source": [
    "print(cohen_kappa_score(y_resampled, predictions))"
   ]
  },
  {
   "cell_type": "markdown",
   "id": "2f9d1f4b",
   "metadata": {},
   "source": [
    "# Feed Forward NN"
   ]
  },
  {
   "cell_type": "code",
   "execution_count": 66,
   "id": "51f25041",
   "metadata": {},
   "outputs": [],
   "source": [
    "from keras.models import Sequential\n",
    "from keras.layers import Dense\n",
    "from sklearn.model_selection import train_test_split"
   ]
  },
  {
   "cell_type": "code",
   "execution_count": 67,
   "id": "ea23f75b",
   "metadata": {},
   "outputs": [],
   "source": [
    "x_train, x_validation, y_train, y_validation = train_test_split(X_resampled, y_resampled, test_size=0.30, random_state=5)"
   ]
  },
  {
   "cell_type": "code",
   "execution_count": 68,
   "id": "65cc7d65",
   "metadata": {},
   "outputs": [],
   "source": [
    "model = Sequential()\n",
    "# input layer requires input_dim param\n",
    "model.add(Dense(10, input_dim=21, activation='relu'))\n",
    "model.add(Dense(50, activation='relu'))\n",
    "model.add(Dense(10, activation='relu'))\n",
    "model.add(Dense(5, activation='relu'))\n",
    "# sigmoid instead of relu for final probability between 0 and 1\n",
    "model.add(Dense(1, activation='sigmoid'))\n",
    "\n",
    "# compile the model, adam gradient descent (optimized)\n",
    "model.compile(loss=\"binary_crossentropy\",\n",
    "              optimizer=\"adam\", metrics=['accuracy'])"
   ]
  },
  {
   "cell_type": "code",
   "execution_count": 69,
   "id": "3cd9d691",
   "metadata": {},
   "outputs": [
    {
     "name": "stdout",
     "output_type": "stream",
     "text": [
      "Epoch 1/100\n",
      "295/295 [==============================] - 2s 6ms/step - loss: 230.6853 - accuracy: 0.5374 - val_loss: 9.8056 - val_accuracy: 0.5761\n",
      "Epoch 2/100\n",
      "295/295 [==============================] - 1s 4ms/step - loss: 96.1809 - accuracy: 0.5346 - val_loss: 51.8640 - val_accuracy: 0.5491\n",
      "Epoch 3/100\n",
      "295/295 [==============================] - 1s 4ms/step - loss: 110.9226 - accuracy: 0.5323 - val_loss: 114.7502 - val_accuracy: 0.5499\n",
      "Epoch 4/100\n",
      "295/295 [==============================] - 1s 5ms/step - loss: 22.2507 - accuracy: 0.5656 - val_loss: 2.5693 - val_accuracy: 0.5998\n",
      "Epoch 5/100\n",
      "295/295 [==============================] - 2s 6ms/step - loss: 8.9750 - accuracy: 0.5632 - val_loss: 6.7039 - val_accuracy: 0.6030\n",
      "Epoch 6/100\n",
      "295/295 [==============================] - 2s 6ms/step - loss: 10.1311 - accuracy: 0.5632 - val_loss: 2.8085 - val_accuracy: 0.6046\n",
      "Epoch 7/100\n",
      "295/295 [==============================] - 1s 4ms/step - loss: 9.7110 - accuracy: 0.5727 - val_loss: 3.6861 - val_accuracy: 0.4992\n",
      "Epoch 8/100\n",
      "295/295 [==============================] - 1s 4ms/step - loss: 8.6589 - accuracy: 0.5724 - val_loss: 15.3776 - val_accuracy: 0.5674\n",
      "Epoch 9/100\n",
      "295/295 [==============================] - 1s 4ms/step - loss: 10.6372 - accuracy: 0.5693 - val_loss: 7.4720 - val_accuracy: 0.4921\n",
      "Epoch 10/100\n",
      "295/295 [==============================] - 1s 5ms/step - loss: 61.7107 - accuracy: 0.5581 - val_loss: 70.8035 - val_accuracy: 0.5460\n",
      "Epoch 11/100\n",
      "295/295 [==============================] - 1s 4ms/step - loss: 68.1720 - accuracy: 0.5479 - val_loss: 16.9801 - val_accuracy: 0.5903\n",
      "Epoch 12/100\n",
      "295/295 [==============================] - 1s 4ms/step - loss: 8.4829 - accuracy: 0.5774 - val_loss: 5.2078 - val_accuracy: 0.6070\n",
      "Epoch 13/100\n",
      "295/295 [==============================] - 2s 6ms/step - loss: 17.6203 - accuracy: 0.5642 - val_loss: 8.6225 - val_accuracy: 0.5959.2351 - accuracy: 0.56\n",
      "Epoch 14/100\n",
      "295/295 [==============================] - 2s 6ms/step - loss: 53.3673 - accuracy: 0.5639 - val_loss: 17.1531 - val_accuracy: 0.5602\n",
      "Epoch 15/100\n",
      "295/295 [==============================] - 1s 4ms/step - loss: 104.5774 - accuracy: 0.5547 - val_loss: 2.1406 - val_accuracy: 0.5674\n",
      "Epoch 16/100\n",
      "295/295 [==============================] - 1s 4ms/step - loss: 63.2650 - accuracy: 0.5520 - val_loss: 6.3013 - val_accuracy: 0.4960\n",
      "Epoch 17/100\n",
      "295/295 [==============================] - 1s 4ms/step - loss: 5.0114 - accuracy: 0.5713 - val_loss: 11.2869 - val_accuracy: 0.4945\n",
      "Epoch 18/100\n",
      "295/295 [==============================] - 1s 4ms/step - loss: 55.9356 - accuracy: 0.5510 - val_loss: 139.1380 - val_accuracy: 0.4857\n",
      "Epoch 19/100\n",
      "295/295 [==============================] - 1s 5ms/step - loss: 147.2247 - accuracy: 0.5557 - val_loss: 44.1139 - val_accuracy: 0.5721\n",
      "Epoch 20/100\n",
      "295/295 [==============================] - 1s 5ms/step - loss: 9.4335 - accuracy: 0.5734 - val_loss: 3.6410 - val_accuracy: 0.5903\n",
      "Epoch 21/100\n",
      "295/295 [==============================] - 1s 5ms/step - loss: 13.0078 - accuracy: 0.5720 - val_loss: 144.7147 - val_accuracy: 0.5523\n",
      "Epoch 22/100\n",
      "295/295 [==============================] - 2s 6ms/step - loss: 39.6141 - accuracy: 0.5686 - val_loss: 2.1318 - val_accuracy: 0.5990\n",
      "Epoch 23/100\n",
      "295/295 [==============================] - 2s 5ms/step - loss: 76.6175 - accuracy: 0.5666 - val_loss: 12.8002 - val_accuracy: 0.5349\n",
      "Epoch 24/100\n",
      "295/295 [==============================] - 1s 5ms/step - loss: 15.7050 - accuracy: 0.5588 - val_loss: 11.8725 - val_accuracy: 0.5674\n",
      "Epoch 25/100\n",
      "295/295 [==============================] - 1s 4ms/step - loss: 6.9059 - accuracy: 0.5102 - val_loss: 0.7014 - val_accuracy: 0.4921\n",
      "Epoch 26/100\n",
      "295/295 [==============================] - 1s 4ms/step - loss: 0.6959 - accuracy: 0.5034 - val_loss: 0.6964 - val_accuracy: 0.4921\n",
      "Epoch 27/100\n",
      "295/295 [==============================] - 1s 4ms/step - loss: 0.6933 - accuracy: 0.5034 - val_loss: 0.6938 - val_accuracy: 0.4921\n",
      "Epoch 28/100\n",
      "295/295 [==============================] - 1s 4ms/step - loss: 0.6914 - accuracy: 0.5034 - val_loss: 0.6930 - val_accuracy: 0.4921\n",
      "Epoch 29/100\n",
      "295/295 [==============================] - 1s 4ms/step - loss: 0.6907 - accuracy: 0.5034 - val_loss: 0.6914 - val_accuracy: 0.4921\n",
      "Epoch 30/100\n",
      "295/295 [==============================] - 1s 4ms/step - loss: 0.6900 - accuracy: 0.5034 - val_loss: 0.6911 - val_accuracy: 0.4921\n",
      "Epoch 31/100\n",
      "295/295 [==============================] - 1s 5ms/step - loss: 0.6897 - accuracy: 0.5034 - val_loss: 0.6907 - val_accuracy: 0.4921\n",
      "Epoch 32/100\n",
      "295/295 [==============================] - 2s 5ms/step - loss: 0.6898 - accuracy: 0.5034 - val_loss: 0.6904 - val_accuracy: 0.4921\n",
      "Epoch 33/100\n",
      "295/295 [==============================] - 1s 4ms/step - loss: 0.6895 - accuracy: 0.5034 - val_loss: 0.6902 - val_accuracy: 0.4921\n",
      "Epoch 34/100\n",
      "295/295 [==============================] - 1s 5ms/step - loss: 0.6900 - accuracy: 0.5024 - val_loss: 0.6898 - val_accuracy: 0.4921\n",
      "Epoch 35/100\n",
      "295/295 [==============================] - 3s 11ms/step - loss: 0.6890 - accuracy: 0.5054 - val_loss: 0.6878 - val_accuracy: 0.5341\n",
      "Epoch 36/100\n",
      "295/295 [==============================] - 2s 8ms/step - loss: 0.6839 - accuracy: 0.5489 - val_loss: 0.6855 - val_accuracy: 0.5784\n",
      "Epoch 37/100\n",
      "295/295 [==============================] - 4s 15ms/step - loss: 0.6814 - accuracy: 0.5880 - val_loss: 0.6807 - val_accuracy: 0.5848\n",
      "Epoch 38/100\n",
      "295/295 [==============================] - 3s 10ms/step - loss: 0.6738 - accuracy: 0.5846 - val_loss: 0.6793 - val_accuracy: 0.5824\n",
      "Epoch 39/100\n",
      "295/295 [==============================] - 3s 10ms/step - loss: 0.6723 - accuracy: 0.5880 - val_loss: 0.6841 - val_accuracy: 0.5935\n",
      "Epoch 40/100\n",
      "295/295 [==============================] - 3s 9ms/step - loss: 0.6684 - accuracy: 0.5921 - val_loss: 0.6797 - val_accuracy: 0.5880\n",
      "Epoch 41/100\n",
      "295/295 [==============================] - 2s 7ms/step - loss: 0.6644 - accuracy: 0.5907 - val_loss: 0.6746 - val_accuracy: 0.5824\n",
      "Epoch 42/100\n",
      "295/295 [==============================] - 2s 6ms/step - loss: 0.6632 - accuracy: 0.5921 - val_loss: 0.6841 - val_accuracy: 0.5919\n",
      "Epoch 43/100\n",
      "295/295 [==============================] - 4s 12ms/step - loss: 0.6639 - accuracy: 0.5934 - val_loss: 0.6713 - val_accuracy: 0.5848\n",
      "Epoch 44/100\n",
      "295/295 [==============================] - 2s 5ms/step - loss: 0.6632 - accuracy: 0.5924 - val_loss: 0.6701 - val_accuracy: 0.5840\n",
      "Epoch 45/100\n",
      "295/295 [==============================] - 3s 10ms/step - loss: 0.6605 - accuracy: 0.5958 - val_loss: 0.6693 - val_accuracy: 0.5832\n",
      "Epoch 46/100\n",
      "295/295 [==============================] - 1s 5ms/step - loss: 0.6614 - accuracy: 0.5931 - val_loss: 0.6693 - val_accuracy: 0.5848\n",
      "Epoch 47/100\n",
      "295/295 [==============================] - 1s 4ms/step - loss: 0.6607 - accuracy: 0.5931 - val_loss: 0.6695 - val_accuracy: 0.5848\n",
      "Epoch 48/100\n",
      "295/295 [==============================] - 1s 5ms/step - loss: 0.6614 - accuracy: 0.5951 - val_loss: 0.6706 - val_accuracy: 0.5856\n",
      "Epoch 49/100\n",
      "295/295 [==============================] - 1s 5ms/step - loss: 0.6598 - accuracy: 0.5961 - val_loss: 0.6720 - val_accuracy: 0.5935\n",
      "Epoch 50/100\n",
      "295/295 [==============================] - 1s 5ms/step - loss: 0.6606 - accuracy: 0.5961 - val_loss: 0.6699 - val_accuracy: 0.5880\n",
      "Epoch 51/100\n",
      "295/295 [==============================] - 1s 4ms/step - loss: 0.6596 - accuracy: 0.5944 - val_loss: 0.6673 - val_accuracy: 0.5887\n",
      "Epoch 52/100\n",
      "295/295 [==============================] - 2s 5ms/step - loss: 0.6605 - accuracy: 0.5924 - val_loss: 0.6714 - val_accuracy: 0.5975\n",
      "Epoch 53/100\n",
      "295/295 [==============================] - 1s 4ms/step - loss: 0.6597 - accuracy: 0.5965 - val_loss: 0.6700 - val_accuracy: 0.5927\n",
      "Epoch 54/100\n",
      "295/295 [==============================] - 1s 4ms/step - loss: 0.6592 - accuracy: 0.5999 - val_loss: 0.6698 - val_accuracy: 0.5832\n",
      "Epoch 55/100\n",
      "295/295 [==============================] - 1s 4ms/step - loss: 0.6581 - accuracy: 0.6002 - val_loss: 0.6693 - val_accuracy: 0.6022\n",
      "Epoch 56/100\n",
      "295/295 [==============================] - 1s 5ms/step - loss: 0.6606 - accuracy: 0.5985 - val_loss: 0.6685 - val_accuracy: 0.5864\n",
      "Epoch 57/100\n"
     ]
    },
    {
     "name": "stdout",
     "output_type": "stream",
     "text": [
      "295/295 [==============================] - 1s 4ms/step - loss: 0.6596 - accuracy: 0.5965 - val_loss: 0.6724 - val_accuracy: 0.6014\n",
      "Epoch 58/100\n",
      "295/295 [==============================] - 2s 5ms/step - loss: 0.6598 - accuracy: 0.6036 - val_loss: 0.6655 - val_accuracy: 0.5951\n",
      "Epoch 59/100\n",
      "295/295 [==============================] - 1s 5ms/step - loss: 0.6571 - accuracy: 0.6012 - val_loss: 0.6678 - val_accuracy: 0.5864\n",
      "Epoch 60/100\n",
      "295/295 [==============================] - 2s 6ms/step - loss: 0.6565 - accuracy: 0.6019 - val_loss: 0.7148 - val_accuracy: 0.6006\n",
      "Epoch 61/100\n",
      "295/295 [==============================] - 2s 8ms/step - loss: 0.6579 - accuracy: 0.6029 - val_loss: 0.6725 - val_accuracy: 0.5800\n",
      "Epoch 62/100\n",
      "295/295 [==============================] - 1s 5ms/step - loss: 0.6564 - accuracy: 0.6087 - val_loss: 0.6732 - val_accuracy: 0.6086\n",
      "Epoch 63/100\n",
      "295/295 [==============================] - 3s 10ms/step - loss: 0.6940 - accuracy: 0.5941 - val_loss: 0.6685 - val_accuracy: 0.5975\n",
      "Epoch 64/100\n",
      "295/295 [==============================] - 6s 20ms/step - loss: 0.6609 - accuracy: 0.6043 - val_loss: 0.6713 - val_accuracy: 0.5872\n",
      "Epoch 65/100\n",
      "295/295 [==============================] - 3s 11ms/step - loss: 0.6632 - accuracy: 0.5954 - val_loss: 0.6751 - val_accuracy: 0.5792\n",
      "Epoch 66/100\n",
      "295/295 [==============================] - 2s 7ms/step - loss: 0.6632 - accuracy: 0.5927 - val_loss: 0.6686 - val_accuracy: 0.5927\n",
      "Epoch 67/100\n",
      "295/295 [==============================] - 2s 8ms/step - loss: 0.6599 - accuracy: 0.6029 - val_loss: 0.6669 - val_accuracy: 0.5959\n",
      "Epoch 68/100\n",
      "295/295 [==============================] - 3s 9ms/step - loss: 0.6596 - accuracy: 0.5961 - val_loss: 0.6662 - val_accuracy: 0.5927\n",
      "Epoch 69/100\n",
      "295/295 [==============================] - 2s 7ms/step - loss: 0.6591 - accuracy: 0.6009 - val_loss: 0.6638 - val_accuracy: 0.6062\n",
      "Epoch 70/100\n",
      "295/295 [==============================] - 2s 5ms/step - loss: 0.6563 - accuracy: 0.5965 - val_loss: 0.6609 - val_accuracy: 0.6046\n",
      "Epoch 71/100\n",
      "295/295 [==============================] - 2s 6ms/step - loss: 0.6546 - accuracy: 0.6077 - val_loss: 0.6751 - val_accuracy: 0.6014\n",
      "Epoch 72/100\n",
      "295/295 [==============================] - 2s 5ms/step - loss: 0.6568 - accuracy: 0.6063 - val_loss: 0.6632 - val_accuracy: 0.6014\n",
      "Epoch 73/100\n",
      "295/295 [==============================] - 2s 7ms/step - loss: 0.6525 - accuracy: 0.6094 - val_loss: 0.6597 - val_accuracy: 0.6014\n",
      "Epoch 74/100\n",
      "295/295 [==============================] - 2s 6ms/step - loss: 0.6539 - accuracy: 0.6077 - val_loss: 0.6600 - val_accuracy: 0.5998\n",
      "Epoch 75/100\n",
      "295/295 [==============================] - 2s 6ms/step - loss: 0.6532 - accuracy: 0.6118 - val_loss: 0.6607 - val_accuracy: 0.6022\n",
      "Epoch 76/100\n",
      "295/295 [==============================] - 2s 5ms/step - loss: 0.6533 - accuracy: 0.6107 - val_loss: 0.6826 - val_accuracy: 0.6046\n",
      "Epoch 77/100\n",
      "295/295 [==============================] - 2s 6ms/step - loss: 0.6498 - accuracy: 0.6128 - val_loss: 0.6602 - val_accuracy: 0.5975\n",
      "Epoch 78/100\n",
      "295/295 [==============================] - 2s 6ms/step - loss: 0.6523 - accuracy: 0.6101 - val_loss: 0.7049 - val_accuracy: 0.6062\n",
      "Epoch 79/100\n",
      "295/295 [==============================] - 1s 5ms/step - loss: 0.6545 - accuracy: 0.6029 - val_loss: 0.6608 - val_accuracy: 0.6030\n",
      "Epoch 80/100\n",
      "295/295 [==============================] - 1s 5ms/step - loss: 0.6506 - accuracy: 0.6141 - val_loss: 0.6599 - val_accuracy: 0.6086\n",
      "Epoch 81/100\n",
      "295/295 [==============================] - 1s 5ms/step - loss: 0.6504 - accuracy: 0.6141 - val_loss: 0.6739 - val_accuracy: 0.6212\n",
      "Epoch 82/100\n",
      "295/295 [==============================] - 2s 6ms/step - loss: 0.6524 - accuracy: 0.6080 - val_loss: 0.6608 - val_accuracy: 0.6006\n",
      "Epoch 83/100\n",
      "295/295 [==============================] - 2s 8ms/step - loss: 0.6499 - accuracy: 0.6090 - val_loss: 0.6611 - val_accuracy: 0.6070\n",
      "Epoch 84/100\n",
      "295/295 [==============================] - 3s 9ms/step - loss: 0.6460 - accuracy: 0.6179 - val_loss: 0.6596 - val_accuracy: 0.6117\n",
      "Epoch 85/100\n",
      "295/295 [==============================] - 1s 5ms/step - loss: 0.6489 - accuracy: 0.6162 - val_loss: 0.6676 - val_accuracy: 0.6133\n",
      "Epoch 86/100\n",
      "295/295 [==============================] - 2s 5ms/step - loss: 0.6588 - accuracy: 0.6016 - val_loss: 0.6623 - val_accuracy: 0.6070\n",
      "Epoch 87/100\n",
      "295/295 [==============================] - 1s 4ms/step - loss: 0.6509 - accuracy: 0.6067 - val_loss: 0.6608 - val_accuracy: 0.5998\n",
      "Epoch 88/100\n",
      "295/295 [==============================] - 1s 5ms/step - loss: 0.6471 - accuracy: 0.6141 - val_loss: 0.6773 - val_accuracy: 0.6014\n",
      "Epoch 89/100\n",
      "295/295 [==============================] - 1s 5ms/step - loss: 0.6488 - accuracy: 0.6141 - val_loss: 0.6610 - val_accuracy: 0.60380s - loss: 0\n",
      "Epoch 90/100\n",
      "295/295 [==============================] - 1s 4ms/step - loss: 0.6458 - accuracy: 0.6179 - val_loss: 0.6632 - val_accuracy: 0.6086\n",
      "Epoch 91/100\n",
      "295/295 [==============================] - 1s 5ms/step - loss: 0.6468 - accuracy: 0.6236 - val_loss: 0.6637 - val_accuracy: 0.6030\n",
      "Epoch 92/100\n",
      "295/295 [==============================] - 1s 4ms/step - loss: 0.6476 - accuracy: 0.6226 - val_loss: 0.6618 - val_accuracy: 0.6078\n",
      "Epoch 93/100\n",
      "295/295 [==============================] - 1s 4ms/step - loss: 0.6469 - accuracy: 0.6233 - val_loss: 0.6635 - val_accuracy: 0.6014\n",
      "Epoch 94/100\n",
      "295/295 [==============================] - 2s 5ms/step - loss: 0.6451 - accuracy: 0.6243 - val_loss: 0.6599 - val_accuracy: 0.6094\n",
      "Epoch 95/100\n",
      "295/295 [==============================] - 1s 5ms/step - loss: 0.6504 - accuracy: 0.6128 - val_loss: 0.6658 - val_accuracy: 0.6070\n",
      "Epoch 96/100\n",
      "295/295 [==============================] - 2s 5ms/step - loss: 0.6513 - accuracy: 0.6168 - val_loss: 0.6609 - val_accuracy: 0.6062\n",
      "Epoch 97/100\n",
      "295/295 [==============================] - 2s 5ms/step - loss: 0.6516 - accuracy: 0.6118 - val_loss: 0.6604 - val_accuracy: 0.6038\n",
      "Epoch 98/100\n",
      "295/295 [==============================] - 2s 5ms/step - loss: 0.6461 - accuracy: 0.6209 - val_loss: 0.6586 - val_accuracy: 0.6133\n",
      "Epoch 99/100\n",
      "295/295 [==============================] - 2s 5ms/step - loss: 0.6487 - accuracy: 0.6219 - val_loss: 0.6585 - val_accuracy: 0.6133\n",
      "Epoch 100/100\n",
      "295/295 [==============================] - 1s 5ms/step - loss: 0.6436 - accuracy: 0.6332 - val_loss: 0.6497 - val_accuracy: 0.6403\n"
     ]
    }
   ],
   "source": [
    "# call the function to fit to the data (training the network)\n",
    "trained = model.fit(x_train, y_train, epochs=100, batch_size=10,\n",
    "          validation_data=(x_validation, y_validation))"
   ]
  },
  {
   "cell_type": "code",
   "execution_count": 70,
   "id": "26e18c93",
   "metadata": {},
   "outputs": [
    {
     "name": "stdout",
     "output_type": "stream",
     "text": [
      "132/132 [==============================] - 0s 3ms/step - loss: 0.6362 - accuracy: 0.6472\n",
      "\n",
      "accuracy: 64.72%\n"
     ]
    }
   ],
   "source": [
    "scores = model.evaluate(X_resampled, y_resampled)\n",
    "print(\"\\n%s: %.2f%%\" % (model.metrics_names[1], scores[1] * 100))"
   ]
  },
  {
   "cell_type": "code",
   "execution_count": 71,
   "id": "f906e919",
   "metadata": {},
   "outputs": [
    {
     "data": {
      "text/plain": [
       "0.6471707224845886"
      ]
     },
     "execution_count": 71,
     "metadata": {},
     "output_type": "execute_result"
    }
   ],
   "source": [
    "scores[1]"
   ]
  },
  {
   "cell_type": "code",
   "execution_count": 72,
   "id": "7cbdbca2",
   "metadata": {},
   "outputs": [],
   "source": [
    "predictions= model.predict(X_resampled)"
   ]
  },
  {
   "cell_type": "code",
   "execution_count": 73,
   "id": "b6914cec",
   "metadata": {},
   "outputs": [],
   "source": [
    "predictions = predictions.astype(int)"
   ]
  },
  {
   "cell_type": "code",
   "execution_count": 74,
   "id": "e2f740ec",
   "metadata": {},
   "outputs": [],
   "source": [
    "rec_ffn = recall_score(y_resampled, predictions, average='weighted')"
   ]
  },
  {
   "cell_type": "code",
   "execution_count": 75,
   "id": "8e99f720",
   "metadata": {},
   "outputs": [
    {
     "data": {
      "image/png": "[encoded data removed]",
      "text/plain": [
       "<Figure size 432x288 with 1 Axes>"
      ]
     },
     "metadata": {
      "needs_background": "light"
     },
     "output_type": "display_data"
    }
   ],
   "source": [
    "plt.plot(trained.history['accuracy'])\n",
    "plt.plot(trained.history['val_accuracy'])\n",
    "plt.title('Accuracy Curves')\n",
    "plt.ylabel('Accuracy')\n",
    "plt.xlabel('Epoch')\n",
    "plt.legend(['Train', 'Test'], loc='upper left')\n",
    "plt.show()"
   ]
  },
  {
   "cell_type": "code",
   "execution_count": 76,
   "id": "a2fceb8a",
   "metadata": {},
   "outputs": [
    {
     "data": {
      "image/png": "[encoded data removed]",
      "text/plain": [
       "<Figure size 432x288 with 1 Axes>"
      ]
     },
     "metadata": {
      "needs_background": "light"
     },
     "output_type": "display_data"
    }
   ],
   "source": [
    "plt.plot(trained.history['loss'])\n",
    "plt.plot(trained.history['val_loss'])\n",
    "plt.title('Loss Curves')\n",
    "plt.ylabel('Loss')\n",
    "plt.xlabel('Epoch')\n",
    "plt.legend(['Train', 'Test'], loc='upper left')\n",
    "plt.show()"
   ]
  },
  {
   "cell_type": "markdown",
   "id": "5e97939c",
   "metadata": {},
   "source": [
    "# Comparison"
   ]
  },
  {
   "cell_type": "markdown",
   "id": "682cff45",
   "metadata": {},
   "source": [
    "# Accuracy vs Recall"
   ]
  },
  {
   "cell_type": "code",
   "execution_count": 77,
   "id": "9748b3be",
   "metadata": {},
   "outputs": [
    {
     "data": {
      "image/png": "[encoded data removed]",
      "text/plain": [
       "<Figure size 432x288 with 1 Axes>"
      ]
     },
     "metadata": {
      "needs_background": "light"
     },
     "output_type": "display_data"
    }
   ],
   "source": [
    "import numpy as np\n",
    "import matplotlib.pyplot as plt\n",
    "\n",
    "N = 12\n",
    "ind = np.arange(N)  # the x locations for the groups\n",
    "width = 0.2      # the width of the bars\n",
    "\n",
    "fig = plt.figure()\n",
    "ax = fig.add_subplot(111)\n",
    "\n",
    "yvals = [acc_lr,acc_svc,acc_nb,acc_rf,acc_elm,acc_xgb,acc_bc,acc_boost,acc_gb,acc_vot,acc_stack,scores[1]*100]\n",
    "rects1 = ax.bar(ind, yvals, width, color='r')\n",
    "\n",
    "zvals = [rec_lr*100,rec_svc*100,rec_nb*100,rec_rf*100,rec_elm*100,rec_xgb*100,rec_bc*100,rec_boost*100,rec_gb*100,rec_vot*100,rec_stack*100,rec_ffn*100]\n",
    "rects2 = ax.bar(ind+width, zvals, width, color='g')\n",
    "\n",
    "\n",
    "ax.set_ylabel('Scores')\n",
    "ax.set_xticks(ind+width)\n",
    "ax.set_xticklabels( (') )\n",
    "ax.legend( (rects1[0], rects2[0]), ('Accuracy', 'Recall') )'LR','SVM','NB','RF','OS-ELM','XGBoost','Bagging','Boosting','GradientBoosting','Voting Classifier','Stacking','FFNN\n",
    "\n",
    "def autolabel(rects):\n",
    "    for rect in rects:\n",
    "        h = rect.get_height()\n",
    "        ax.text(rect.get_x()+rect.get_width()/2., 1.05*h, '%d'%int(h),\n",
    "                ha='center', va='bottom')\n",
    "\n",
    "autolabel(rects1)\n",
    "autolabel(rects2)\n",
    "\n",
    "\n",
    "plt.show()"
   ]
  },
  {
   "cell_type": "markdown",
   "id": "4538f4ef",
   "metadata": {},
   "source": [
    "# Accuracy"
   ]
  },
  {
   "cell_type": "code",
   "execution_count": 78,
   "id": "9336d203",
   "metadata": {},
   "outputs": [],
   "source": [
    "accuracies = [acc_lr,acc_svc,acc_nb,acc_rf,acc_elm,acc_xgb,acc_bc,acc_boost,acc_gb,acc_vot,acc_stack,scores[1]*100]"
   ]
  },
  {
   "cell_type": "code",
   "execution_count": 79,
   "id": "7090b17b",
   "metadata": {},
   "outputs": [
    {
     "name": "stdout",
     "output_type": "stream",
     "text": [
      "64.0038040893961\n",
      "96.14835948644793\n",
      "55.967665240133144\n",
      "65.8345221112696\n",
      "62.07798383262006\n",
      "94.17498811222063\n",
      "56.77603423680456\n",
      "67.97432239657631\n",
      "69.32952924393724\n",
      "98.31193533048027\n",
      "94.17498811222063\n",
      "64.71707224845886\n"
     ]
    }
   ],
   "source": [
    "for i in range(0, len(accuracies)):\n",
    "    accuracies[i] = accuracies[i]\n",
    "    print(accuracies[i])"
   ]
  },
  {
   "cell_type": "code",
   "execution_count": 80,
   "id": "4553ef35",
   "metadata": {},
   "outputs": [],
   "source": [
    "models = ['LR','SVM','NB','RF','OS-ELM','XGBoost','Bagging','Boosting','GradientBoosting','Voting Classifier','Stacking','FFNN']"
   ]
  },
  {
   "cell_type": "code",
   "execution_count": 81,
   "id": "32b76a35",
   "metadata": {},
   "outputs": [
    {
     "data": {
      "image/png": "[encoded data removed]",
      "text/plain": [
       "<Figure size 432x288 with 1 Axes>"
      ]
     },
     "metadata": {
      "needs_background": "light"
     },
     "output_type": "display_data"
    }
   ],
   "source": [
    "import matplotlib.pyplot as plt\n",
    "fig = plt.figure()\n",
    "ax = fig.add_axes([0,0,1,1])\n",
    "ax.bar(models,accuracies)\n",
    "plt.xlabel(\"Software Defects - PC1 to PC3\")\n",
    "plt.ylabel(\"Accuracy (in %)\")\n",
    "plt.show()"
   ]
  },
  {
   "cell_type": "markdown",
   "id": "c75eb235",
   "metadata": {},
   "source": [
    "# Modelling"
   ]
  },
  {
   "cell_type": "code",
   "execution_count": 82,
   "id": "819f3f67",
   "metadata": {},
   "outputs": [
    {
     "data": {
      "text/plain": [
       "['model.sav']"
      ]
     },
     "execution_count": 82,
     "metadata": {},
     "output_type": "execute_result"
    }
   ],
   "source": [
    "import joblib\n",
    "filename = 'model.sav'\n",
    "joblib.dump(eclf1, filename)"
   ]
  },
  {
   "cell_type": "code",
   "execution_count": null,
   "id": "ce9e4fe9",
   "metadata": {},
   "outputs": [],
   "source": []
  }
 ],
 "metadata": {
  "kernelspec": {
   "display_name": "Python 3",
   "language": "python",
   "name": "python3"
  },
  "language_info": {
   "codemirror_mode": {
    "name": "ipython",
    "version": 3
   },
   "file_extension": ".py",
   "mimetype": "text/x-python",
   "name": "python",
   "nbconvert_exporter": "python",
   "pygments_lexer": "ipython3",
   "version": "3.8.8"
  }
 },
 "nbformat": 4,
 "nbformat_minor": 5
}
